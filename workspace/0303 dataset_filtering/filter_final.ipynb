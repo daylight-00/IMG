{
 "cells": [
  {
   "cell_type": "markdown",
   "metadata": {},
   "source": [
    "# 0. Draft Filtering"
   ]
  },
  {
   "cell_type": "code",
   "execution_count": null,
   "metadata": {},
   "outputs": [],
   "source": [
    "import pandas as pd\n",
    "\n",
    "def clean_data(df):\n",
    "    df = df.drop(columns=[\n",
    "        ('Assay ID', 'IEDB IRI'), \n",
    "        ('Reference', 'IEDB IRI'), \n",
    "        ('Reference', 'Type'), \n",
    "        ('Reference', 'PMID'), \n",
    "        ('Reference', 'Submission ID'), \n",
    "        ('Reference', 'Authors'), \n",
    "        ('Reference', 'Journal'),\n",
    "        ('Reference', 'Title'), \n",
    "        ('Epitope', 'Epitope IRI'), \n",
    "        ('Epitope', 'Starting Position'), \n",
    "        ('Epitope', 'Ending Position'), \n",
    "        ('Epitope', 'IRI'), \n",
    "        ('Epitope', 'Synonyms'), \n",
    "        ('Epitope', 'Source Molecule IRI'), \n",
    "        ('Epitope', 'Molecule Parent IRI'), \n",
    "        ('Epitope', 'Source Organism IRI'), \n",
    "        ('Epitope', 'Species IRI'), \n",
    "        ('Epitope', 'Comments'), \n",
    "        ('Related Object', 'Epitope Relation'), \n",
    "        ('Related Object', 'Object Type'), \n",
    "        ('Related Object', 'Name'), \n",
    "        ('Related Object', 'Starting Position'), \n",
    "        ('Related Object', 'Ending Position'), \n",
    "        ('Related Object', 'IRI'), \n",
    "        ('Related Object', 'Synonyms'), \n",
    "        ('Related Object', 'Source Molecule'), \n",
    "        ('Related Object', 'Source Molecule IRI'), \n",
    "        ('Related Object', 'Molecule Parent'), \n",
    "        ('Related Object', 'Molecule Parent IRI'), \n",
    "        ('Related Object', 'Source Organism'), \n",
    "        ('Related Object', 'Source Organism IRI'), \n",
    "        ('Related Object', 'Species'), \n",
    "        ('Related Object', 'Species IRI'), \n",
    "        ('Host', 'Geolocation'), \n",
    "        ('Host', 'Geolocation IRI'), \n",
    "        ('Host', 'Sex'), \n",
    "        ('Host', 'Age'), \n",
    "        ('in vivo Antigen', 'Epitope Relation'), \n",
    "        ('in vivo Antigen', 'Object Type'), \n",
    "        ('in vivo Antigen', 'Name'), \n",
    "        ('in vivo Antigen', 'Reference Name'), \n",
    "        ('in vivo Antigen', 'Starting Position'), \n",
    "        ('in vivo Antigen', 'Ending Position'), \n",
    "        ('in vivo Antigen', 'IRI'), \n",
    "        ('in vivo Antigen', 'Source Molecule'), \n",
    "        ('in vivo Antigen', 'Source Molecule IRI'), \n",
    "        ('in vivo Antigen', 'Molecule Parent'), \n",
    "        ('in vivo Antigen', 'Molecule Parent IRI'), \n",
    "        ('in vivo Antigen', 'Source Organism'), \n",
    "        ('in vivo Antigen', 'Source Organism IRI'), \n",
    "        ('in vivo Antigen', 'Species'), \n",
    "        ('in vivo Antigen', 'Species IRI'), \n",
    "        ('in vivo Antigen', 'Adjuvants'), \n",
    "        ('in vivo Antigen', 'Route'), \n",
    "        ('in vivo Antigen', 'Dose Schedule'), \n",
    "        ('In vitro Process', 'Process Type'), \n",
    "        ('In vitro Process', 'Epitope Relation'), \n",
    "        ('In vitro Process', 'Object Type'), \n",
    "        ('In vitro Process', 'Name'), \n",
    "        ('In vitro Process', 'Reference Name'), \n",
    "        ('In vitro Process', 'Starting Position'), \n",
    "        ('In vitro Process', 'Ending Position'), \n",
    "        ('In vitro Process', 'IRI'), \n",
    "        ('In vitro Process', 'Source Molecule'), \n",
    "        ('In vitro Process', 'Source Molecule IRI'), \n",
    "        ('In vitro Process', 'Molecule Parent'), \n",
    "        ('In vitro Process', 'Molecule Parent IRI'), \n",
    "        ('In vitro Process', 'Source Organism'), \n",
    "        ('In vitro Process', 'Source Organism IRI'), \n",
    "        ('In vitro Process', 'Species'), \n",
    "        ('In vitro Process', 'Species IRI'), \n",
    "        ('MHC Restriction', 'IRI'), \n",
    "        ('MHC Restriction', 'Evidence IRI'), \n",
    "        ('Host', 'IRI'), \n",
    "        ('in vivo Process', 'Disease IRI'), \n",
    "        ('Assay', 'IRI'), \n",
    "        ('Antigen Presenting Cell', 'Source Tissue IRI'), \n",
    "        ('Antigen Presenting Cell', 'IRI'),\n",
    "        ####\n",
    "        ('Antigen Presenting Cell', 'Culture Condition'),\n",
    "        ('MHC Restriction', 'Evidence Code'),\n",
    "        ('Assay', 'Comments'),\n",
    "        ('Assay', 'Location of Assay Data in Reference'),\n",
    "        ('Assay', 'PDB ID'),\n",
    "        ('Antigen Processing', 'Comments'),\n",
    "        ('Epitope', 'Reference Name'),\n",
    "        ])\n",
    "\n",
    "    df = df[df[('Host', 'Name')] == \"Homo sapiens (human)\"]\n",
    "    df = df.drop(columns=[('Host', 'Name')])\n",
    "    df = df[(df[('MHC Restriction', 'Name')].str.contains(\"*\", regex=False, na=False, case=False)) & (df[('MHC Restriction', 'Name')].str.startswith(\"HLA\", na=False)) & (~df[('MHC Restriction', 'Name')].str.contains(\"mutant\", regex=False, na=False, case=False))]\n",
    "    \n",
    "    df = df[~df[('Epitope', 'Name')].str.contains(\"+\", regex=False, na=False, case=False)]\n",
    "    df = df[df[('Epitope', 'Object Type')] == \"Linear peptide\"]\n",
    "    df = df.drop(columns=[\n",
    "        ('Epitope', 'Object Type'), \n",
    "        ('Epitope', 'Modified residues'), \n",
    "        ('Epitope', 'Modifications')])\n",
    "    df = df[df[('MHC Restriction', 'Class')] == \"II\"]\n",
    "    df = df.drop(columns=[('MHC Restriction', 'Class')])\n",
    "    df = df[df[('Epitope', 'Name')].str.len() == 15]\n",
    "    \n",
    "    return df\n",
    "\n",
    "df = pd.read_csv(r'/home/mink/project/250228/hwj/mhc_ligand_full.csv', header=[0 , 1], low_memory=False)\n",
    "df_clean = clean_data(df.copy())\n",
    "df_clean.to_csv(r'draft.csv', index=False)"
   ]
  },
  {
   "cell_type": "markdown",
   "metadata": {},
   "source": [
    "# 1. Binary"
   ]
  },
  {
   "cell_type": "code",
   "execution_count": 1,
   "metadata": {},
   "outputs": [
    {
     "data": {
      "application/vnd.microsoft.datawrangler.viewer.v0+json": {
       "columns": [
        {
         "name": "index",
         "rawType": "int64",
         "type": "integer"
        },
        {
         "name": "Epi_Seq",
         "rawType": "object",
         "type": "string"
        },
        {
         "name": "HLA_Name",
         "rawType": "object",
         "type": "string"
        },
        {
         "name": "HLA_Name_full",
         "rawType": "object",
         "type": "string"
        },
        {
         "name": "Target",
         "rawType": "int64",
         "type": "integer"
        }
       ],
       "conversionMethod": "pd.DataFrame",
       "ref": "39de2e43-19d4-4c65-af7b-44c291685b5f",
       "rows": [
        [
         "0",
         "AAAAAAAAAAAAAAA",
         "HLA-DPB1*03:01",
         "HLA-DPA1*01:03/DPB1*03:01",
         "1"
        ],
        [
         "1",
         "AAAAAAAAAAAAAAA",
         "HLA-DPB1*06:01",
         "HLA-DPA1*01:03/DPB1*06:01",
         "1"
        ],
        [
         "2",
         "AAAAAAAAAAAAAAA",
         "HLA-DQB1*03:01",
         "HLA-DQA1*05:05/DQB1*03:01",
         "1"
        ],
        [
         "3",
         "AAAAAAAAAAAAAAA",
         "HLA-DQB1*03:02",
         "HLA-DQA1*03:01/DQB1*03:02",
         "1"
        ],
        [
         "4",
         "AAAAAAAAAAAAAAA",
         "HLA-DQB1*06:02",
         "HLA-DQA1*01:02/DQB1*06:02",
         "1"
        ],
        [
         "5",
         "AAAAAAAAAAAAAQQ",
         "HLA-DQB1*03:01",
         "HLA-DQA1*05:05/DQB1*03:01",
         "1"
        ],
        [
         "6",
         "AAAAAAAAAAAGAGA",
         "HLA-DQB1*03:01",
         "HLA-DQA1*05:05/DQB1*03:01",
         "1"
        ],
        [
         "7",
         "AAAAAAAAAAGAGAG",
         "HLA-DQB1*03:01",
         "HLA-DQA1*05:05/DQB1*03:01",
         "1"
        ],
        [
         "8",
         "AAAAAAAAAGAGAGA",
         "HLA-DQB1*03:01",
         "HLA-DQA1*05:05/DQB1*03:01",
         "1"
        ],
        [
         "9",
         "AAAAAAAGAFAGRRA",
         "HLA-DQB1*03:01",
         "HLA-DQA1*05:05/DQB1*03:01",
         "1"
        ],
        [
         "10",
         "AAAAAAAPAAPAAPR",
         "HLA-DQB1*03:01",
         "HLA-DQA1*05:05/DQB1*03:01",
         "1"
        ],
        [
         "11",
         "AAAAAAKAAAKAAQF",
         "HLA-DPB1*14:01",
         "HLA-DPA1*02:01/DPB1*14:01",
         "1"
        ],
        [
         "12",
         "AAAAAAKVPAKKITA",
         "HLA-DPB1*14:01",
         "HLA-DPA1*02:01/DPB1*14:01",
         "1"
        ],
        [
         "13",
         "AAAAAATASIAGAPT",
         "HLA-DRB1*15:01",
         "HLA-DRB1*15:01",
         "0"
        ],
        [
         "14",
         "AAAAAGGAAAAAARQ",
         "HLA-DPB1*03:01",
         "HLA-DPA1*01:03/DPB1*03:01",
         "1"
        ],
        [
         "15",
         "AAAAAGGAAAAAARQ",
         "HLA-DPB1*06:01",
         "HLA-DPA1*01:03/DPB1*06:01",
         "1"
        ],
        [
         "16",
         "AAAAAGGAAAAAARQ",
         "HLA-DPB1*14:01",
         "HLA-DPA1*02:01/DPB1*14:01",
         "1"
        ],
        [
         "17",
         "AAAAAGGAAAAAARQ",
         "HLA-DQB1*02:02",
         "HLA-DQA1*02:01/DQB1*02:02",
         "1"
        ],
        [
         "18",
         "AAAAAVATGKKRKRP",
         "HLA-DPB1*14:01",
         "HLA-DPA1*02:01/DPB1*14:01",
         "1"
        ],
        [
         "19",
         "AAAAAYEAAFAATVP",
         "HLA-DRB1*01:01",
         "HLA-DRB1*01:01",
         "1"
        ],
        [
         "20",
         "AAAAAYEAAFAATVP",
         "HLA-DRB1*04:01",
         "HLA-DRB1*04:01",
         "1"
        ],
        [
         "21",
         "AAAAAYEAAFAATVP",
         "HLA-DRB1*04:05",
         "HLA-DRB1*04:05",
         "1"
        ],
        [
         "22",
         "AAAAAYEAAFAATVP",
         "HLA-DRB1*07:01",
         "HLA-DRB1*07:01",
         "1"
        ],
        [
         "23",
         "AAAAAYEAAFAATVP",
         "HLA-DRB1*15:01",
         "HLA-DRB1*15:01",
         "1"
        ],
        [
         "24",
         "AAAAAYEAAFAATVP",
         "HLA-DRB4*01:01",
         "HLA-DRB4*01:01",
         "1"
        ],
        [
         "25",
         "AAAAAYEAAFAATVP",
         "HLA-DRB5*01:01",
         "HLA-DRB5*01:01",
         "1"
        ],
        [
         "26",
         "AAAAFAGLSREEALR",
         "HLA-DRB1*11:01",
         "HLA-DRB1*11:01",
         "1"
        ],
        [
         "27",
         "AAAAGWQTLSAALDA",
         "HLA-DPB1*01:01",
         "HLA-DPA1*02:01/DPB1*01:01",
         "1"
        ],
        [
         "28",
         "AAAAGWQTLSAALDA",
         "HLA-DPB1*02:01",
         "HLA-DPA1*01:03/DPB1*02:01",
         "1"
        ],
        [
         "29",
         "AAAAGWQTLSAALDA",
         "HLA-DPB1*04:01",
         "HLA-DPA1*01:03/DPB1*04:01",
         "1"
        ],
        [
         "30",
         "AAAAGWQTLSAALDA",
         "HLA-DPB1*04:02",
         "HLA-DPA1*03:01/DPB1*04:02",
         "1"
        ],
        [
         "31",
         "AAAAGWQTLSAALDA",
         "HLA-DPB1*05:01",
         "HLA-DPA1*02:01/DPB1*05:01",
         "0"
        ],
        [
         "32",
         "AAAAGWQTLSAALDA",
         "HLA-DQB1*02:01",
         "HLA-DQA1*05:01/DQB1*02:01",
         "1"
        ],
        [
         "33",
         "AAAAGWQTLSAALDA",
         "HLA-DQB1*03:01",
         "HLA-DQA1*05:01/DQB1*03:01",
         "1"
        ],
        [
         "34",
         "AAAAGWQTLSAALDA",
         "HLA-DQB1*03:02",
         "HLA-DQA1*03:01/DQB1*03:02",
         "1"
        ],
        [
         "35",
         "AAAAGWQTLSAALDA",
         "HLA-DQB1*05:01",
         "HLA-DQA1*01:01/DQB1*05:01",
         "1"
        ],
        [
         "36",
         "AAAAGWQTLSAALDA",
         "HLA-DQB1*06:02",
         "HLA-DQA1*01:02/DQB1*06:02",
         "1"
        ],
        [
         "37",
         "AAAAGWQTLSAALDA",
         "HLA-DRB1*01:01",
         "HLA-DRB1*01:01",
         "1"
        ],
        [
         "38",
         "AAAAGWQTLSAALDA",
         "HLA-DRB1*03:01",
         "HLA-DRB1*03:01",
         "0"
        ],
        [
         "39",
         "AAAAGWQTLSAALDA",
         "HLA-DRB1*04:01",
         "HLA-DRB1*04:01",
         "1"
        ],
        [
         "40",
         "AAAAGWQTLSAALDA",
         "HLA-DRB1*04:04",
         "HLA-DRB1*04:04",
         "1"
        ],
        [
         "41",
         "AAAAGWQTLSAALDA",
         "HLA-DRB1*04:05",
         "HLA-DRB1*04:05",
         "1"
        ],
        [
         "42",
         "AAAAGWQTLSAALDA",
         "HLA-DRB1*07:01",
         "HLA-DRB1*07:01",
         "1"
        ],
        [
         "43",
         "AAAAGWQTLSAALDA",
         "HLA-DRB1*08:02",
         "HLA-DRB1*08:02",
         "1"
        ],
        [
         "44",
         "AAAAGWQTLSAALDA",
         "HLA-DRB1*09:01",
         "HLA-DRB1*09:01",
         "1"
        ],
        [
         "45",
         "AAAAGWQTLSAALDA",
         "HLA-DRB1*11:01",
         "HLA-DRB1*11:01",
         "1"
        ],
        [
         "46",
         "AAAAGWQTLSAALDA",
         "HLA-DRB1*12:01",
         "HLA-DRB1*12:01",
         "1"
        ],
        [
         "47",
         "AAAAGWQTLSAALDA",
         "HLA-DRB1*13:02",
         "HLA-DRB1*13:02",
         "0"
        ],
        [
         "48",
         "AAAAGWQTLSAALDA",
         "HLA-DRB1*15:01",
         "HLA-DRB1*15:01",
         "1"
        ],
        [
         "49",
         "AAAAGWQTLSAALDA",
         "HLA-DRB3*01:01",
         "HLA-DRB3*01:01",
         "0"
        ]
       ],
       "shape": {
        "columns": 4,
        "rows": 163984
       }
      },
      "text/html": [
       "<div>\n",
       "<style scoped>\n",
       "    .dataframe tbody tr th:only-of-type {\n",
       "        vertical-align: middle;\n",
       "    }\n",
       "\n",
       "    .dataframe tbody tr th {\n",
       "        vertical-align: top;\n",
       "    }\n",
       "\n",
       "    .dataframe thead th {\n",
       "        text-align: right;\n",
       "    }\n",
       "</style>\n",
       "<table border=\"1\" class=\"dataframe\">\n",
       "  <thead>\n",
       "    <tr style=\"text-align: right;\">\n",
       "      <th></th>\n",
       "      <th>Epi_Seq</th>\n",
       "      <th>HLA_Name</th>\n",
       "      <th>HLA_Name_full</th>\n",
       "      <th>Target</th>\n",
       "    </tr>\n",
       "  </thead>\n",
       "  <tbody>\n",
       "    <tr>\n",
       "      <th>0</th>\n",
       "      <td>AAAAAAAAAAAAAAA</td>\n",
       "      <td>HLA-DPB1*03:01</td>\n",
       "      <td>HLA-DPA1*01:03/DPB1*03:01</td>\n",
       "      <td>1</td>\n",
       "    </tr>\n",
       "    <tr>\n",
       "      <th>1</th>\n",
       "      <td>AAAAAAAAAAAAAAA</td>\n",
       "      <td>HLA-DPB1*06:01</td>\n",
       "      <td>HLA-DPA1*01:03/DPB1*06:01</td>\n",
       "      <td>1</td>\n",
       "    </tr>\n",
       "    <tr>\n",
       "      <th>2</th>\n",
       "      <td>AAAAAAAAAAAAAAA</td>\n",
       "      <td>HLA-DQB1*03:01</td>\n",
       "      <td>HLA-DQA1*05:05/DQB1*03:01</td>\n",
       "      <td>1</td>\n",
       "    </tr>\n",
       "    <tr>\n",
       "      <th>3</th>\n",
       "      <td>AAAAAAAAAAAAAAA</td>\n",
       "      <td>HLA-DQB1*03:02</td>\n",
       "      <td>HLA-DQA1*03:01/DQB1*03:02</td>\n",
       "      <td>1</td>\n",
       "    </tr>\n",
       "    <tr>\n",
       "      <th>4</th>\n",
       "      <td>AAAAAAAAAAAAAAA</td>\n",
       "      <td>HLA-DQB1*06:02</td>\n",
       "      <td>HLA-DQA1*01:02/DQB1*06:02</td>\n",
       "      <td>1</td>\n",
       "    </tr>\n",
       "    <tr>\n",
       "      <th>...</th>\n",
       "      <td>...</td>\n",
       "      <td>...</td>\n",
       "      <td>...</td>\n",
       "      <td>...</td>\n",
       "    </tr>\n",
       "    <tr>\n",
       "      <th>163979</th>\n",
       "      <td>YYVGYLQPRTFLLKY</td>\n",
       "      <td>HLA-DRB1*15:01</td>\n",
       "      <td>HLA-DRB1*15:01</td>\n",
       "      <td>0</td>\n",
       "    </tr>\n",
       "    <tr>\n",
       "      <th>163980</th>\n",
       "      <td>YYVWKSYVHVVDGCN</td>\n",
       "      <td>HLA-DRB1*04:04</td>\n",
       "      <td>HLA-DRB1*04:04</td>\n",
       "      <td>0</td>\n",
       "    </tr>\n",
       "    <tr>\n",
       "      <th>163981</th>\n",
       "      <td>YYVWKSYVHVVDGCN</td>\n",
       "      <td>HLA-DRB1*07:01</td>\n",
       "      <td>HLA-DRB1*07:01</td>\n",
       "      <td>0</td>\n",
       "    </tr>\n",
       "    <tr>\n",
       "      <th>163982</th>\n",
       "      <td>YYVWKSYVHVVDGCN</td>\n",
       "      <td>HLA-DRB1*15:01</td>\n",
       "      <td>HLA-DRB1*15:01</td>\n",
       "      <td>0</td>\n",
       "    </tr>\n",
       "    <tr>\n",
       "      <th>163983</th>\n",
       "      <td>YYYIQQDTKGDYQKA</td>\n",
       "      <td>HLA-DRB1*03:01</td>\n",
       "      <td>HLA-DRB1*03:01</td>\n",
       "      <td>1</td>\n",
       "    </tr>\n",
       "  </tbody>\n",
       "</table>\n",
       "<p>163984 rows × 4 columns</p>\n",
       "</div>"
      ],
      "text/plain": [
       "                Epi_Seq        HLA_Name              HLA_Name_full  Target\n",
       "0       AAAAAAAAAAAAAAA  HLA-DPB1*03:01  HLA-DPA1*01:03/DPB1*03:01       1\n",
       "1       AAAAAAAAAAAAAAA  HLA-DPB1*06:01  HLA-DPA1*01:03/DPB1*06:01       1\n",
       "2       AAAAAAAAAAAAAAA  HLA-DQB1*03:01  HLA-DQA1*05:05/DQB1*03:01       1\n",
       "3       AAAAAAAAAAAAAAA  HLA-DQB1*03:02  HLA-DQA1*03:01/DQB1*03:02       1\n",
       "4       AAAAAAAAAAAAAAA  HLA-DQB1*06:02  HLA-DQA1*01:02/DQB1*06:02       1\n",
       "...                 ...             ...                        ...     ...\n",
       "163979  YYVGYLQPRTFLLKY  HLA-DRB1*15:01             HLA-DRB1*15:01       0\n",
       "163980  YYVWKSYVHVVDGCN  HLA-DRB1*04:04             HLA-DRB1*04:04       0\n",
       "163981  YYVWKSYVHVVDGCN  HLA-DRB1*07:01             HLA-DRB1*07:01       0\n",
       "163982  YYVWKSYVHVVDGCN  HLA-DRB1*15:01             HLA-DRB1*15:01       0\n",
       "163983  YYYIQQDTKGDYQKA  HLA-DRB1*03:01             HLA-DRB1*03:01       1\n",
       "\n",
       "[163984 rows x 4 columns]"
      ]
     },
     "execution_count": 1,
     "metadata": {},
     "output_type": "execute_result"
    }
   ],
   "source": [
    "import pandas as pd\n",
    "\n",
    "def clean_data(df):\n",
    "    df_clean = pd.DataFrame()\n",
    "    df_clean['Epi_Seq'] = df[('Epitope', 'Name')]\n",
    "    df_clean['HLA_Name_full'] = df[('MHC Restriction', 'Name')]\n",
    "    df_clean['HLA_Name'] = df_clean['HLA_Name_full'].apply(lambda x: 'HLA-'+x.split('/')[-1] if '/' in x else x)\n",
    "    df_clean['Target'] = df[('Assay', 'Qualitative Measurement')].apply(lambda x: 0 if str(x) == 'Negative' else 1).values\n",
    "    df_clean = df_clean.groupby(['Epi_Seq', 'HLA_Name', 'HLA_Name_full'])['Target'].max().reset_index()\n",
    "    return df_clean\n",
    "\n",
    "df = pd.read_csv(r'/home/mink/project/250303/filtered1.csv', header=[0 , 1], low_memory=False)\n",
    "df_full = clean_data(df.copy())\n",
    "df_full"
   ]
  },
  {
   "cell_type": "code",
   "execution_count": 6,
   "metadata": {},
   "outputs": [
    {
     "name": "stdout",
     "output_type": "stream",
     "text": [
      "(131187, 4) (32797, 4)\n"
     ]
    }
   ],
   "source": [
    "import pandas as pd\n",
    "from sklearn.model_selection import train_test_split\n",
    "\n",
    "data = df_full\n",
    "data['stratify_col'] = data['HLA_Name_full'].astype(str) + '_' + data['Target'].astype(str)\n",
    "\n",
    "class_counts = data['stratify_col'].value_counts()\n",
    "valid_classes = class_counts[class_counts >= 2].index\n",
    "stratify_data = data[data['stratify_col'].isin(valid_classes)]\n",
    "non_stratify_data = data[~data['stratify_col'].isin(valid_classes)]\n",
    "\n",
    "train_strat, test_strat = train_test_split(\n",
    "    stratify_data, \n",
    "    test_size=0.2, \n",
    "    stratify=stratify_data['stratify_col'], \n",
    "    random_state=100\n",
    ")\n",
    "\n",
    "train_non_strat, test_non_strat = train_test_split(\n",
    "    non_stratify_data, \n",
    "    test_size=0.2, \n",
    "    random_state=100\n",
    ")\n",
    "\n",
    "train = pd.concat([train_strat, train_non_strat])\n",
    "test = pd.concat([test_strat, test_non_strat])\n",
    "train = train.drop(columns=['stratify_col'])\n",
    "test = test.drop(columns=['stratify_col'])\n",
    "train_sorted = train.sort_values(by=['Epi_Seq', 'HLA_Name', 'Target', 'HLA_Name_full'], ascending=[True, True, False, True])\n",
    "test_sorted = test.sort_values(by=['Epi_Seq', 'HLA_Name', 'Target', 'HLA_Name_full'], ascending=[True, True, False, True])\n",
    "\n",
    "print(train.shape, test.shape)\n",
    "\n",
    "train.to_csv(r'train_non_div.csv', index=False)\n",
    "test.to_csv(r'test_non_div.csv', index=False)"
   ]
  },
  {
   "cell_type": "code",
   "execution_count": 7,
   "metadata": {},
   "outputs": [
    {
     "name": "stdout",
     "output_type": "stream",
     "text": [
      "127130 32505\n"
     ]
    }
   ],
   "source": [
    "train_sorted = train.sort_values(by=['Epi_Seq', 'HLA_Name', 'Target', 'HLA_Name_full'], ascending=[True, True, False, True])\n",
    "train_dedup = train_sorted.drop_duplicates(subset=['Epi_Seq', 'HLA_Name'], keep='first')\n",
    "test_sorted = test.sort_values(by=['Epi_Seq', 'HLA_Name', 'Target', 'HLA_Name_full'], ascending=[True, True, False, True])\n",
    "train_sorted = train.sort_values(['Target'], ascending=False)\n",
    "test_dedup = test_sorted.drop_duplicates(subset=['Epi_Seq', 'HLA_Name'], keep='first')\n",
    "print(len(train_dedup), len(test_dedup))\n",
    "\n",
    "train_dedup = train_dedup.drop(columns=['HLA_Name_full'])\n",
    "test_dedup = test_dedup.drop(columns=['HLA_Name_full'])\n",
    "\n",
    "train_dedup.to_csv(r'train.csv', index=False)\n",
    "test_dedup.to_csv(r'test.csv', index=False)"
   ]
  },
  {
   "cell_type": "markdown",
   "metadata": {},
   "source": [
    "# 2. IC50"
   ]
  },
  {
   "cell_type": "code",
   "execution_count": 8,
   "metadata": {},
   "outputs": [],
   "source": [
    "import pandas as pd\n",
    "import numpy as np\n",
    "\n",
    "def clean_data(df):\n",
    "    df = df[(df[('Assay', 'Response measured')].str.contains(\"IC50\", regex=False, na=False, case=False)) & ((df[('Assay', 'Measurement Inequality')].isna()) | (df[('Assay', 'Measurement Inequality')] == \"=\"))]\n",
    "    df = df[~df[('Assay', 'Quantitative measurement')].isna()]\n",
    "    df_clean = pd.DataFrame()\n",
    "    df_clean['Epi_Seq'] = df[('Epitope', 'Name')]\n",
    "    df_clean['HLA_Name_full'] = df[('MHC Restriction', 'Name')]\n",
    "    df_clean['HLA_Name'] = df_clean['HLA_Name_full'].apply(lambda x: 'HLA-'+x.split('/')[-1] if '/' in x else x)\n",
    "    df_clean['IC50'] = pd.to_numeric(df[('Assay', 'Quantitative measurement')], errors='coerce')\n",
    "    df_clean['log_IC50'] = np.log10(df_clean['IC50'])\n",
    "    df_clean = df_clean.groupby(['Epi_Seq', 'HLA_Name'])['log_IC50'].mean().reset_index()\n",
    "    df_clean['Target'] = (df_clean['log_IC50'] < np.log10(500)).astype(int)\n",
    "    return df_clean\n",
    "\n",
    "df = pd.read_csv(r'/home/mink/project/250303/filtered1.csv', header=[0 , 1], low_memory=False)\n",
    "df_ic50 = clean_data(df.copy())\n",
    "# df_ic50\n",
    "# df_clean.to_csv(r'ic50.csv', index=False)"
   ]
  },
  {
   "cell_type": "code",
   "execution_count": 10,
   "metadata": {},
   "outputs": [
    {
     "name": "stdout",
     "output_type": "stream",
     "text": [
      "(34019, 4) (8506, 4)\n"
     ]
    }
   ],
   "source": [
    "import pandas as pd\n",
    "from sklearn.model_selection import train_test_split\n",
    "\n",
    "data = df_ic50\n",
    "data['Target_bin'] = pd.qcut(data['Target'], q=100, duplicates='drop')\n",
    "data['stratify_col'] = data['HLA_Name'].astype(str) + '_' + data['Target_bin'].astype(str)\n",
    "\n",
    "class_counts = data['stratify_col'].value_counts()\n",
    "valid_classes = class_counts[class_counts >= 2].index\n",
    "stratify_data = data[data['stratify_col'].isin(valid_classes)]\n",
    "non_stratify_data = data[~data['stratify_col'].isin(valid_classes)]\n",
    "\n",
    "train_strat, test_strat = train_test_split(\n",
    "    stratify_data, \n",
    "    test_size=0.2, \n",
    "    stratify=stratify_data['stratify_col'], \n",
    "    random_state=100\n",
    ")\n",
    "\n",
    "train_non_strat, test_non_strat = train_test_split(\n",
    "    non_stratify_data, \n",
    "    test_size=0.2, \n",
    "    random_state=100\n",
    ")\n",
    "\n",
    "train = pd.concat([train_strat, train_non_strat])\n",
    "test = pd.concat([test_strat, test_non_strat])\n",
    "train = train.drop(columns=['Target_bin', 'stratify_col'])\n",
    "test = test.drop(columns=['Target_bin', 'stratify_col'])\n",
    "\n",
    "print(train.shape, test.shape)\n",
    "train.to_csv(r'train_ic50.csv', index=False)\n",
    "test.to_csv(r'test_ic50.csv', index=False)"
   ]
  }
 ],
 "metadata": {
  "kernelspec": {
   "display_name": "Python 3",
   "language": "python",
   "name": "python3"
  },
  "language_info": {
   "codemirror_mode": {
    "name": "ipython",
    "version": 3
   },
   "file_extension": ".py",
   "mimetype": "text/x-python",
   "name": "python",
   "nbconvert_exporter": "python",
   "pygments_lexer": "ipython3",
   "version": "3.12.7"
  }
 },
 "nbformat": 4,
 "nbformat_minor": 2
}
