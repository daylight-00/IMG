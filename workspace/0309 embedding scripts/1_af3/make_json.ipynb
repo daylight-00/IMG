{
 "cells": [
  {
   "cell_type": "code",
   "execution_count": null,
   "metadata": {},
   "outputs": [],
   "source": [
    "import pandas as pd\n",
    "import os\n",
    "import json\n",
    "from tqdm import tqdm\n",
    "\n",
    "# input_path = '/home/hwjang/project/IMG/data/final/HLA2_IMGT_light.csv'\n",
    "input_path = '/home/hwjang/project/IMG/data/final/etc/unique_epitope_whole.csv'\n",
    "df = pd.read_csv(input_path)\n",
    "df.head()"
   ]
  },
  {
   "cell_type": "code",
   "execution_count": null,
   "metadata": {},
   "outputs": [],
   "source": [
    "def make_json(name, sequence):\n",
    "    temp = {\n",
    "        \"name\": name,\n",
    "        \"sequences\": [\n",
    "            {\n",
    "                \"protein\": {\n",
    "                    \"id\": [\"A\"],\n",
    "                    \"sequence\": sequence\n",
    "                }\n",
    "            }\n",
    "    ],\n",
    "    \"modelSeeds\": [1],\n",
    "    \"dialect\": \"alphafold3\",\n",
    "    \"version\": 1\n",
    "    }\n",
    "    return temp\n",
    "\n",
    "def write_json(data, name):\n",
    "    with open(name, 'w') as f:\n",
    "        json.dump(data, f)\n",
    "\n",
    "os.makedirs('output', exist_ok=True)\n",
    "\n",
    "for i in tqdm(range(len(df))):\n",
    "    # name, sequence = df['HLA_Name'][i], df['HLA_Seq'][i]\n",
    "    name, sequence = df['Epi_Seq'][i], df['Epi_Seq'][i]\n",
    "    data = make_json(name, sequence)\n",
    "    ind = int(i/112)\n",
    "    if f'output/{ind}' not in os.listdir():\n",
    "        os.makedirs(f'output/{ind}', exist_ok=True)\n",
    "    write_json(data, f'output/{ind}/{name}.json')"
   ]
  }
 ],
 "metadata": {
  "language_info": {
   "name": "python"
  }
 },
 "nbformat": 4,
 "nbformat_minor": 2
}
