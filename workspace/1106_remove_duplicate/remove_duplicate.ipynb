{
 "cells": [
  {
   "cell_type": "code",
   "execution_count": 6,
   "metadata": {},
   "outputs": [
    {
     "name": "stderr",
     "output_type": "stream",
     "text": [
      "/tmp/ipykernel_71297/3122903128.py:7: SettingWithCopyWarning: \n",
      "A value is trying to be set on a copy of a slice from a DataFrame.\n",
      "Try using .loc[row_indexer,col_indexer] = value instead\n",
      "\n",
      "See the caveats in the documentation: https://pandas.pydata.org/pandas-docs/stable/user_guide/indexing.html#returning-a-view-versus-a-copy\n",
      "  dup['length'] = dup['HLA_Seq'].str.replace('*', '').str.len()\n"
     ]
    }
   ],
   "source": [
    "import pandas as pd\n",
    "path = '/home/hwjang/SynologyDrive/Drive/Research/Immunogenicity/IMG/data/deepneo/HLAseq.csv'\n",
    "\n",
    "df = pd.read_csv(path)\n",
    "dup = df[df.duplicated(subset='HLA_Name', keep=False)]\n",
    "non_dup = df.drop_duplicates(subset='HLA_Name', keep=False)\n",
    "dup['length'] = dup['HLA_Seq'].str.replace('*', '').str.len()\n",
    "df_unique = dup.loc[dup.groupby('HLA_Name')['length'].idxmax()]\n",
    "df_unique = df_unique.drop(columns='length')\n",
    "df = pd.concat([df_unique, non_dup])\n",
    "df = df.sort_values(by='HLA_Name')\n",
    "df.to_csv('/home/hwjang/SynologyDrive/Drive/Research/Immunogenicity/IMG/data/deepneo/HLAseq_unique.csv', index=False)"
   ]
  },
  {
   "cell_type": "code",
   "execution_count": 7,
   "metadata": {},
   "outputs": [
    {
     "name": "stderr",
     "output_type": "stream",
     "text": [
      "/tmp/ipykernel_71297/2135839903.py:7: SettingWithCopyWarning: \n",
      "A value is trying to be set on a copy of a slice from a DataFrame.\n",
      "Try using .loc[row_indexer,col_indexer] = value instead\n",
      "\n",
      "See the caveats in the documentation: https://pandas.pydata.org/pandas-docs/stable/user_guide/indexing.html#returning-a-view-versus-a-copy\n",
      "  dup['length'] = dup['HLA_Seq'].str.replace('*', '').str.len()\n"
     ]
    }
   ],
   "source": [
    "import pandas as pd\n",
    "path = '/home/hwjang/SynologyDrive/Drive/Research/Immunogenicity/IMG/data/deepneo_2/MHC2_prot_alignseq.csv'\n",
    "\n",
    "df = pd.read_csv(path)\n",
    "dup = df[df.duplicated(subset='HLA_Name', keep=False)]\n",
    "non_dup = df.drop_duplicates(subset='HLA_Name', keep=False)\n",
    "dup['length'] = dup['HLA_Seq'].str.replace('*', '').str.len()\n",
    "df_unique = dup.loc[dup.groupby('HLA_Name')['length'].idxmax()]\n",
    "df_unique = df_unique.drop(columns='length')\n",
    "df = pd.concat([df_unique, non_dup])\n",
    "df = df.sort_values(by='HLA_Name')\n",
    "df.to_csv('/home/hwjang/SynologyDrive/Drive/Research/Immunogenicity/IMG/data/deepneo/MHC2_prot_alignseq_unique.csv', index=False)"
   ]
  }
 ],
 "metadata": {
  "kernelspec": {
   "display_name": "venv",
   "language": "python",
   "name": "python3"
  },
  "language_info": {
   "codemirror_mode": {
    "name": "ipython",
    "version": 3
   },
   "file_extension": ".py",
   "mimetype": "text/x-python",
   "name": "python",
   "nbconvert_exporter": "python",
   "pygments_lexer": "ipython3",
   "version": "3.12.4"
  }
 },
 "nbformat": 4,
 "nbformat_minor": 2
}
