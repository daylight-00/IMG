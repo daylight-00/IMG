{
 "cells": [
  {
   "cell_type": "code",
   "execution_count": 1,
   "metadata": {},
   "outputs": [
    {
     "name": "stdout",
     "output_type": "stream",
     "text": [
      "Collecting torchsummary\n",
      "  Downloading torchsummary-1.5.1-py3-none-any.whl.metadata (296 bytes)\n",
      "Downloading torchsummary-1.5.1-py3-none-any.whl (2.8 kB)\n",
      "Installing collected packages: torchsummary\n",
      "Successfully installed torchsummary-1.5.1\n",
      "Note: you may need to restart the kernel to use updated packages.\n"
     ]
    }
   ],
   "source": [
    "pip install torchsummary\n"
   ]
  },
  {
   "cell_type": "code",
   "execution_count": 2,
   "metadata": {},
   "outputs": [
    {
     "name": "stderr",
     "output_type": "stream",
     "text": [
      "/home/pbh/miniconda3/lib/python3.12/site-packages/tqdm/auto.py:21: TqdmWarning: IProgress not found. Please update jupyter and ipywidgets. See https://ipywidgets.readthedocs.io/en/stable/user_install.html\n",
      "  from .autonotebook import tqdm as notebook_tqdm\n",
      "/home/pbh/miniconda3/lib/python3.12/site-packages/esm/utils/structure/protein_structure.py:69: FutureWarning: `torch.cuda.amp.autocast(args...)` is deprecated. Please use `torch.amp.autocast('cuda', args...)` instead.\n",
      "  @autocast(enabled=False)\n",
      "/home/pbh/miniconda3/lib/python3.12/site-packages/esm/utils/structure/protein_structure.py:164: FutureWarning: `torch.cuda.amp.autocast(args...)` is deprecated. Please use `torch.amp.autocast('cuda', args...)` instead.\n",
      "  @autocast(enabled=False)\n",
      "/home/pbh/miniconda3/lib/python3.12/site-packages/esm/utils/structure/protein_structure.py:213: FutureWarning: `torch.cuda.amp.autocast(args...)` is deprecated. Please use `torch.amp.autocast('cuda', args...)` instead.\n",
      "  @autocast(enabled=False)\n",
      "/home/pbh/miniconda3/lib/python3.12/site-packages/transformers/tokenization_utils_base.py:1601: FutureWarning: `clean_up_tokenization_spaces` was not set. It will be set to `True` by default. This behavior will be depracted in transformers v4.45, and will be then set to `False` by default. For more details check this issue: https://github.com/huggingface/transformers/issues/31884\n",
      "  warnings.warn(\n",
      "Fetching 22 files: 100%|██████████| 22/22 [00:00<00:00, 91451.62it/s]\n",
      "/home/pbh/miniconda3/lib/python3.12/site-packages/esm/pretrained.py:68: FutureWarning: You are using `torch.load` with `weights_only=False` (the current default value), which uses the default pickle module implicitly. It is possible to construct malicious pickle data which will execute arbitrary code during unpickling (See https://github.com/pytorch/pytorch/blob/main/SECURITY.md#untrusted-models for more details). In a future release, the default value for `weights_only` will be flipped to `True`. This limits the functions that could be executed during unpickling. Arbitrary objects will no longer be allowed to be loaded via this mode unless they are explicitly allowlisted by the user via `torch.serialization.add_safe_globals`. We recommend you start setting `weights_only=True` for any use case where you don't have full control of the loaded file. Please open an issue on GitHub for any issues related to this experimental feature.\n",
      "  state_dict = torch.load(\n"
     ]
    }
   ],
   "source": [
    "import torch\n",
    "from esm.models.esm3 import ESM3\n",
    "from esm.sdk.api import ESMProtein, SamplingConfig\n",
    "from esm.utils.constants.models import ESM3_OPEN_SMALL\n",
    "\n",
    "# Define the device\n",
    "device = torch.device(\"cuda\" if torch.cuda.is_available() else \"cpu\")\n",
    "\n",
    "# ESM3 모델 불러오기 with the device correctly set\n",
    "client = ESM3.from_pretrained(ESM3_OPEN_SMALL, device=device)"
   ]
  },
  {
   "cell_type": "code",
   "execution_count": 3,
   "metadata": {},
   "outputs": [
    {
     "name": "stdout",
     "output_type": "stream",
     "text": [
      "ESM3(\n",
      "  (encoder): EncodeInputs(\n",
      "    (sequence_embed): Embedding(64, 1536)\n",
      "    (plddt_projection): Linear(in_features=16, out_features=1536, bias=True)\n",
      "    (structure_per_res_plddt_projection): Linear(in_features=16, out_features=1536, bias=True)\n",
      "    (structure_tokens_embed): Embedding(4101, 1536)\n",
      "    (ss8_embed): Embedding(11, 1536)\n",
      "    (sasa_embed): Embedding(19, 1536)\n",
      "    (function_embed): ModuleList(\n",
      "      (0-7): 8 x Embedding(260, 192, padding_idx=0)\n",
      "    )\n",
      "    (residue_embed): EmbeddingBag(1478, 1536, mode='sum', padding_idx=0)\n",
      "  )\n",
      "  (transformer): TransformerStack(\n",
      "    (blocks): ModuleList(\n",
      "      (0): UnifiedTransformerBlock(\n",
      "        (attn): MultiHeadAttention(\n",
      "          (layernorm_qkv): Sequential(\n",
      "            (0): LayerNorm((1536,), eps=1e-05, elementwise_affine=True)\n",
      "            (1): Linear(in_features=1536, out_features=4608, bias=False)\n",
      "          )\n",
      "          (out_proj): Linear(in_features=1536, out_features=1536, bias=False)\n",
      "          (q_ln): LayerNorm((1536,), eps=1e-05, elementwise_affine=True)\n",
      "          (k_ln): LayerNorm((1536,), eps=1e-05, elementwise_affine=True)\n",
      "          (rotary): RotaryEmbedding()\n",
      "        )\n",
      "        (geom_attn): GeometricReasoningOriginalImpl(\n",
      "          (s_norm): LayerNorm((1536,), eps=1e-05, elementwise_affine=True)\n",
      "          (proj): Linear(in_features=1536, out_features=3840, bias=False)\n",
      "          (out_proj): Linear(in_features=768, out_features=1536, bias=False)\n",
      "        )\n",
      "        (ffn): Sequential(\n",
      "          (0): LayerNorm((1536,), eps=1e-05, elementwise_affine=True)\n",
      "          (1): Linear(in_features=1536, out_features=8192, bias=False)\n",
      "          (2): SwiGLU()\n",
      "          (3): Linear(in_features=4096, out_features=1536, bias=False)\n",
      "        )\n",
      "      )\n",
      "      (1-47): 47 x UnifiedTransformerBlock(\n",
      "        (attn): MultiHeadAttention(\n",
      "          (layernorm_qkv): Sequential(\n",
      "            (0): LayerNorm((1536,), eps=1e-05, elementwise_affine=True)\n",
      "            (1): Linear(in_features=1536, out_features=4608, bias=False)\n",
      "          )\n",
      "          (out_proj): Linear(in_features=1536, out_features=1536, bias=False)\n",
      "          (q_ln): LayerNorm((1536,), eps=1e-05, elementwise_affine=True)\n",
      "          (k_ln): LayerNorm((1536,), eps=1e-05, elementwise_affine=True)\n",
      "          (rotary): RotaryEmbedding()\n",
      "        )\n",
      "        (ffn): Sequential(\n",
      "          (0): LayerNorm((1536,), eps=1e-05, elementwise_affine=True)\n",
      "          (1): Linear(in_features=1536, out_features=8192, bias=False)\n",
      "          (2): SwiGLU()\n",
      "          (3): Linear(in_features=4096, out_features=1536, bias=False)\n",
      "        )\n",
      "      )\n",
      "    )\n",
      "    (norm): LayerNorm((1536,), eps=1e-05, elementwise_affine=True)\n",
      "  )\n",
      "  (output_heads): OutputHeads(\n",
      "    (sequence_head): Sequential(\n",
      "      (0): Linear(in_features=1536, out_features=1536, bias=True)\n",
      "      (1): GELU(approximate='none')\n",
      "      (2): LayerNorm((1536,), eps=1e-05, elementwise_affine=True)\n",
      "      (3): Linear(in_features=1536, out_features=64, bias=True)\n",
      "    )\n",
      "    (structure_head): Sequential(\n",
      "      (0): Linear(in_features=1536, out_features=1536, bias=True)\n",
      "      (1): GELU(approximate='none')\n",
      "      (2): LayerNorm((1536,), eps=1e-05, elementwise_affine=True)\n",
      "      (3): Linear(in_features=1536, out_features=4096, bias=True)\n",
      "    )\n",
      "    (ss8_head): Sequential(\n",
      "      (0): Linear(in_features=1536, out_features=1536, bias=True)\n",
      "      (1): GELU(approximate='none')\n",
      "      (2): LayerNorm((1536,), eps=1e-05, elementwise_affine=True)\n",
      "      (3): Linear(in_features=1536, out_features=11, bias=True)\n",
      "    )\n",
      "    (sasa_head): Sequential(\n",
      "      (0): Linear(in_features=1536, out_features=1536, bias=True)\n",
      "      (1): GELU(approximate='none')\n",
      "      (2): LayerNorm((1536,), eps=1e-05, elementwise_affine=True)\n",
      "      (3): Linear(in_features=1536, out_features=19, bias=True)\n",
      "    )\n",
      "    (function_head): Sequential(\n",
      "      (0): Linear(in_features=1536, out_features=1536, bias=True)\n",
      "      (1): GELU(approximate='none')\n",
      "      (2): LayerNorm((1536,), eps=1e-05, elementwise_affine=True)\n",
      "      (3): Linear(in_features=1536, out_features=2080, bias=True)\n",
      "    )\n",
      "    (residue_head): Sequential(\n",
      "      (0): Linear(in_features=1536, out_features=1536, bias=True)\n",
      "      (1): GELU(approximate='none')\n",
      "      (2): LayerNorm((1536,), eps=1e-05, elementwise_affine=True)\n",
      "      (3): Linear(in_features=1536, out_features=1478, bias=True)\n",
      "    )\n",
      "  )\n",
      ")\n"
     ]
    }
   ],
   "source": [
    "# ESM3 모델의 구조를 출력\n",
    "print(client)\n"
   ]
  },
  {
   "cell_type": "code",
   "execution_count": 4,
   "metadata": {},
   "outputs": [
    {
     "name": "stdout",
     "output_type": "stream",
     "text": [
      "EncodeInputs(\n",
      "  (sequence_embed): Embedding(64, 1536)\n",
      "  (plddt_projection): Linear(in_features=16, out_features=1536, bias=True)\n",
      "  (structure_per_res_plddt_projection): Linear(in_features=16, out_features=1536, bias=True)\n",
      "  (structure_tokens_embed): Embedding(4101, 1536)\n",
      "  (ss8_embed): Embedding(11, 1536)\n",
      "  (sasa_embed): Embedding(19, 1536)\n",
      "  (function_embed): ModuleList(\n",
      "    (0-7): 8 x Embedding(260, 192, padding_idx=0)\n",
      "  )\n",
      "  (residue_embed): EmbeddingBag(1478, 1536, mode='sum', padding_idx=0)\n",
      ")\n"
     ]
    }
   ],
   "source": [
    "print(client.encoder)  # 예를 들어, 인코더 부분만 확인\n"
   ]
  }
 ],
 "metadata": {
  "kernelspec": {
   "display_name": "base",
   "language": "python",
   "name": "python3"
  },
  "language_info": {
   "codemirror_mode": {
    "name": "ipython",
    "version": 3
   },
   "file_extension": ".py",
   "mimetype": "text/x-python",
   "name": "python",
   "nbconvert_exporter": "python",
   "pygments_lexer": "ipython3",
   "version": "3.12.2"
  }
 },
 "nbformat": 4,
 "nbformat_minor": 2
}
