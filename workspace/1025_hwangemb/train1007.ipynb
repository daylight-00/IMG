{
 "cells": [
  {
   "cell_type": "code",
   "execution_count": 3,
   "metadata": {},
   "outputs": [
    {
     "name": "stdout",
     "output_type": "stream",
     "text": [
      "Using device: cuda\n"
     ]
    },
    {
     "name": "stderr",
     "output_type": "stream",
     "text": [
      "                                                                                      \r"
     ]
    },
    {
     "name": "stdout",
     "output_type": "stream",
     "text": [
      "Epoch [1/100], Train Loss: 0.4697, Train Accuracy: 0.7699, Valid Loss: 0.4285, Valid Accuracy: 0.7894\n",
      "Validation loss improved, model saved to model_checkpoint.pth\n"
     ]
    },
    {
     "name": "stderr",
     "output_type": "stream",
     "text": [
      "                                                                                      \r"
     ]
    },
    {
     "name": "stdout",
     "output_type": "stream",
     "text": [
      "Epoch [2/100], Train Loss: 0.4152, Train Accuracy: 0.8040, Valid Loss: 0.4114, Valid Accuracy: 0.8013\n",
      "Validation loss improved, model saved to model_checkpoint.pth\n"
     ]
    },
    {
     "name": "stderr",
     "output_type": "stream",
     "text": [
      "                                                                                      \r"
     ]
    },
    {
     "name": "stdout",
     "output_type": "stream",
     "text": [
      "Epoch [3/100], Train Loss: 0.3897, Train Accuracy: 0.8199, Valid Loss: 0.3828, Valid Accuracy: 0.8232\n",
      "Validation loss improved, model saved to model_checkpoint.pth\n"
     ]
    },
    {
     "name": "stderr",
     "output_type": "stream",
     "text": [
      "                                                                                      \r"
     ]
    },
    {
     "name": "stdout",
     "output_type": "stream",
     "text": [
      "Epoch [4/100], Train Loss: 0.3695, Train Accuracy: 0.8312, Valid Loss: 0.3494, Valid Accuracy: 0.8445\n",
      "Validation loss improved, model saved to model_checkpoint.pth\n"
     ]
    },
    {
     "name": "stderr",
     "output_type": "stream",
     "text": [
      "                                                                                      \r"
     ]
    },
    {
     "name": "stdout",
     "output_type": "stream",
     "text": [
      "Epoch [5/100], Train Loss: 0.3450, Train Accuracy: 0.8473, Valid Loss: 0.3265, Valid Accuracy: 0.8571\n",
      "Validation loss improved, model saved to model_checkpoint.pth\n"
     ]
    },
    {
     "name": "stderr",
     "output_type": "stream",
     "text": [
      "                                                                                      \r"
     ]
    },
    {
     "name": "stdout",
     "output_type": "stream",
     "text": [
      "Epoch [6/100], Train Loss: 0.3206, Train Accuracy: 0.8626, Valid Loss: 0.3109, Valid Accuracy: 0.8659\n",
      "Validation loss improved, model saved to model_checkpoint.pth\n"
     ]
    },
    {
     "name": "stderr",
     "output_type": "stream",
     "text": [
      "                                                                                      \r"
     ]
    },
    {
     "name": "stdout",
     "output_type": "stream",
     "text": [
      "Epoch [7/100], Train Loss: 0.3082, Train Accuracy: 0.8692, Valid Loss: 0.2984, Valid Accuracy: 0.8749\n",
      "Validation loss improved, model saved to model_checkpoint.pth\n"
     ]
    },
    {
     "name": "stderr",
     "output_type": "stream",
     "text": [
      "                                                                                      \r"
     ]
    },
    {
     "name": "stdout",
     "output_type": "stream",
     "text": [
      "Epoch [8/100], Train Loss: 0.2976, Train Accuracy: 0.8747, Valid Loss: 0.2928, Valid Accuracy: 0.8762\n",
      "Validation loss improved, model saved to model_checkpoint.pth\n"
     ]
    },
    {
     "name": "stderr",
     "output_type": "stream",
     "text": [
      "                                                                                      \r"
     ]
    },
    {
     "name": "stdout",
     "output_type": "stream",
     "text": [
      "Epoch [9/100], Train Loss: 0.2897, Train Accuracy: 0.8773, Valid Loss: 0.2980, Valid Accuracy: 0.8729\n",
      "Validation loss did not improve for 1 epochs.\n"
     ]
    },
    {
     "name": "stderr",
     "output_type": "stream",
     "text": [
      "                                                                                       \r"
     ]
    },
    {
     "name": "stdout",
     "output_type": "stream",
     "text": [
      "Epoch [10/100], Train Loss: 0.2826, Train Accuracy: 0.8813, Valid Loss: 0.2840, Valid Accuracy: 0.8821\n",
      "Validation loss improved, model saved to model_checkpoint.pth\n"
     ]
    },
    {
     "name": "stderr",
     "output_type": "stream",
     "text": [
      "                                                                                       \r"
     ]
    },
    {
     "name": "stdout",
     "output_type": "stream",
     "text": [
      "Epoch [11/100], Train Loss: 0.2737, Train Accuracy: 0.8859, Valid Loss: 0.2851, Valid Accuracy: 0.8771\n",
      "Validation loss did not improve for 1 epochs.\n"
     ]
    },
    {
     "name": "stderr",
     "output_type": "stream",
     "text": [
      "                                                                                       \r"
     ]
    },
    {
     "name": "stdout",
     "output_type": "stream",
     "text": [
      "Epoch [12/100], Train Loss: 0.2687, Train Accuracy: 0.8886, Valid Loss: 0.2702, Valid Accuracy: 0.8867\n",
      "Validation loss improved, model saved to model_checkpoint.pth\n"
     ]
    },
    {
     "name": "stderr",
     "output_type": "stream",
     "text": [
      "                                                                                       \r"
     ]
    },
    {
     "name": "stdout",
     "output_type": "stream",
     "text": [
      "Epoch [13/100], Train Loss: 0.2634, Train Accuracy: 0.8907, Valid Loss: 0.2642, Valid Accuracy: 0.8897\n",
      "Validation loss improved, model saved to model_checkpoint.pth\n"
     ]
    },
    {
     "name": "stderr",
     "output_type": "stream",
     "text": [
      "                                                                                       \r"
     ]
    },
    {
     "name": "stdout",
     "output_type": "stream",
     "text": [
      "Epoch [14/100], Train Loss: 0.2594, Train Accuracy: 0.8933, Valid Loss: 0.2615, Valid Accuracy: 0.8914\n",
      "Validation loss improved, model saved to model_checkpoint.pth\n"
     ]
    },
    {
     "name": "stderr",
     "output_type": "stream",
     "text": [
      "                                                                                       \r"
     ]
    },
    {
     "name": "stdout",
     "output_type": "stream",
     "text": [
      "Epoch [15/100], Train Loss: 0.2533, Train Accuracy: 0.8963, Valid Loss: 0.2552, Valid Accuracy: 0.8934\n",
      "Validation loss improved, model saved to model_checkpoint.pth\n"
     ]
    },
    {
     "name": "stderr",
     "output_type": "stream",
     "text": [
      "                                                                                       \r"
     ]
    },
    {
     "name": "stdout",
     "output_type": "stream",
     "text": [
      "Epoch [16/100], Train Loss: 0.2495, Train Accuracy: 0.8970, Valid Loss: 0.2560, Valid Accuracy: 0.8938\n",
      "Validation loss did not improve for 1 epochs.\n"
     ]
    },
    {
     "name": "stderr",
     "output_type": "stream",
     "text": [
      "                                                                                       \r"
     ]
    },
    {
     "name": "stdout",
     "output_type": "stream",
     "text": [
      "Epoch [17/100], Train Loss: 0.2447, Train Accuracy: 0.8990, Valid Loss: 0.2540, Valid Accuracy: 0.8958\n",
      "Validation loss improved, model saved to model_checkpoint.pth\n"
     ]
    },
    {
     "name": "stderr",
     "output_type": "stream",
     "text": [
      "                                                                                       \r"
     ]
    },
    {
     "name": "stdout",
     "output_type": "stream",
     "text": [
      "Epoch [18/100], Train Loss: 0.2414, Train Accuracy: 0.9009, Valid Loss: 0.2560, Valid Accuracy: 0.8934\n",
      "Validation loss did not improve for 1 epochs.\n"
     ]
    },
    {
     "name": "stderr",
     "output_type": "stream",
     "text": [
      "                                                                                       \r"
     ]
    },
    {
     "name": "stdout",
     "output_type": "stream",
     "text": [
      "Epoch [19/100], Train Loss: 0.2384, Train Accuracy: 0.9032, Valid Loss: 0.2689, Valid Accuracy: 0.8831\n",
      "Validation loss did not improve for 2 epochs.\n"
     ]
    },
    {
     "name": "stderr",
     "output_type": "stream",
     "text": [
      "                                                                                       \r"
     ]
    },
    {
     "name": "stdout",
     "output_type": "stream",
     "text": [
      "Epoch [20/100], Train Loss: 0.2357, Train Accuracy: 0.9040, Valid Loss: 0.2437, Valid Accuracy: 0.9001\n",
      "Validation loss improved, model saved to model_checkpoint.pth\n"
     ]
    },
    {
     "name": "stderr",
     "output_type": "stream",
     "text": [
      "                                                                                       \r"
     ]
    },
    {
     "name": "stdout",
     "output_type": "stream",
     "text": [
      "Epoch [21/100], Train Loss: 0.2374, Train Accuracy: 0.9032, Valid Loss: 0.2465, Valid Accuracy: 0.8985\n",
      "Validation loss did not improve for 1 epochs.\n"
     ]
    },
    {
     "name": "stderr",
     "output_type": "stream",
     "text": [
      "                                                                                       \r"
     ]
    },
    {
     "name": "stdout",
     "output_type": "stream",
     "text": [
      "Epoch [22/100], Train Loss: 0.2330, Train Accuracy: 0.9049, Valid Loss: 0.2405, Valid Accuracy: 0.9015\n",
      "Validation loss improved, model saved to model_checkpoint.pth\n"
     ]
    },
    {
     "name": "stderr",
     "output_type": "stream",
     "text": [
      "                                                                                        \r"
     ]
    },
    {
     "name": "stdout",
     "output_type": "stream",
     "text": [
      "Epoch [23/100], Train Loss: 0.2323, Train Accuracy: 0.9052, Valid Loss: 0.2359, Valid Accuracy: 0.9023\n",
      "Validation loss improved, model saved to model_checkpoint.pth\n"
     ]
    },
    {
     "name": "stderr",
     "output_type": "stream",
     "text": [
      "                                                                                       \r"
     ]
    },
    {
     "name": "stdout",
     "output_type": "stream",
     "text": [
      "Epoch [24/100], Train Loss: 0.2299, Train Accuracy: 0.9063, Valid Loss: 0.2368, Valid Accuracy: 0.9032\n",
      "Validation loss did not improve for 1 epochs.\n"
     ]
    },
    {
     "name": "stderr",
     "output_type": "stream",
     "text": [
      "                                                                                       \r"
     ]
    },
    {
     "name": "stdout",
     "output_type": "stream",
     "text": [
      "Epoch [25/100], Train Loss: 0.2256, Train Accuracy: 0.9077, Valid Loss: 0.2347, Valid Accuracy: 0.9030\n",
      "Validation loss improved, model saved to model_checkpoint.pth\n"
     ]
    },
    {
     "name": "stderr",
     "output_type": "stream",
     "text": [
      "                                                                                        \r"
     ]
    },
    {
     "name": "stdout",
     "output_type": "stream",
     "text": [
      "Epoch [26/100], Train Loss: 0.2241, Train Accuracy: 0.9084, Valid Loss: 0.2392, Valid Accuracy: 0.9033\n",
      "Validation loss did not improve for 1 epochs.\n"
     ]
    },
    {
     "name": "stderr",
     "output_type": "stream",
     "text": [
      "                                                                                       \r"
     ]
    },
    {
     "name": "stdout",
     "output_type": "stream",
     "text": [
      "Epoch [27/100], Train Loss: 0.2266, Train Accuracy: 0.9076, Valid Loss: 0.2341, Valid Accuracy: 0.9041\n",
      "Validation loss improved, model saved to model_checkpoint.pth\n"
     ]
    },
    {
     "name": "stderr",
     "output_type": "stream",
     "text": [
      "                                                                                        \r"
     ]
    },
    {
     "name": "stdout",
     "output_type": "stream",
     "text": [
      "Epoch [28/100], Train Loss: 0.2286, Train Accuracy: 0.9070, Valid Loss: 0.2333, Valid Accuracy: 0.9043\n",
      "Validation loss improved, model saved to model_checkpoint.pth\n"
     ]
    },
    {
     "name": "stderr",
     "output_type": "stream",
     "text": [
      "                                                                                       \r"
     ]
    },
    {
     "name": "stdout",
     "output_type": "stream",
     "text": [
      "Epoch [29/100], Train Loss: 0.2235, Train Accuracy: 0.9090, Valid Loss: 0.2328, Valid Accuracy: 0.9055\n",
      "Validation loss improved, model saved to model_checkpoint.pth\n"
     ]
    },
    {
     "name": "stderr",
     "output_type": "stream",
     "text": [
      "                                                                                        \r"
     ]
    },
    {
     "name": "stdout",
     "output_type": "stream",
     "text": [
      "Epoch [30/100], Train Loss: 0.2208, Train Accuracy: 0.9102, Valid Loss: 0.2334, Valid Accuracy: 0.9057\n",
      "Validation loss did not improve for 1 epochs.\n"
     ]
    },
    {
     "name": "stderr",
     "output_type": "stream",
     "text": [
      "                                                                                       \r"
     ]
    },
    {
     "name": "stdout",
     "output_type": "stream",
     "text": [
      "Epoch [31/100], Train Loss: 0.2176, Train Accuracy: 0.9121, Valid Loss: 0.2319, Valid Accuracy: 0.9042\n",
      "Validation loss improved, model saved to model_checkpoint.pth\n"
     ]
    },
    {
     "name": "stderr",
     "output_type": "stream",
     "text": [
      "                                                                                       \r"
     ]
    },
    {
     "name": "stdout",
     "output_type": "stream",
     "text": [
      "Epoch [32/100], Train Loss: 0.2220, Train Accuracy: 0.9096, Valid Loss: 0.2435, Valid Accuracy: 0.8981\n",
      "Validation loss did not improve for 1 epochs.\n"
     ]
    },
    {
     "name": "stderr",
     "output_type": "stream",
     "text": [
      "                                                                                       \r"
     ]
    },
    {
     "name": "stdout",
     "output_type": "stream",
     "text": [
      "Epoch [33/100], Train Loss: 0.2221, Train Accuracy: 0.9096, Valid Loss: 0.2295, Valid Accuracy: 0.9050\n",
      "Validation loss improved, model saved to model_checkpoint.pth\n"
     ]
    },
    {
     "name": "stderr",
     "output_type": "stream",
     "text": [
      "                                                                                       \r"
     ]
    },
    {
     "name": "stdout",
     "output_type": "stream",
     "text": [
      "Epoch [34/100], Train Loss: 0.2203, Train Accuracy: 0.9092, Valid Loss: 0.2418, Valid Accuracy: 0.9012\n",
      "Validation loss did not improve for 1 epochs.\n"
     ]
    },
    {
     "name": "stderr",
     "output_type": "stream",
     "text": [
      "                                                                                       \r"
     ]
    },
    {
     "name": "stdout",
     "output_type": "stream",
     "text": [
      "Epoch [35/100], Train Loss: 0.2464, Train Accuracy: 0.8990, Valid Loss: 0.2413, Valid Accuracy: 0.9007\n",
      "Validation loss did not improve for 2 epochs.\n"
     ]
    },
    {
     "name": "stderr",
     "output_type": "stream",
     "text": [
      "                                                                                       \r"
     ]
    },
    {
     "name": "stdout",
     "output_type": "stream",
     "text": [
      "Epoch [36/100], Train Loss: 0.2304, Train Accuracy: 0.9059, Valid Loss: 0.2413, Valid Accuracy: 0.9005\n",
      "Validation loss did not improve for 3 epochs.\n"
     ]
    },
    {
     "name": "stderr",
     "output_type": "stream",
     "text": [
      "                                                                                        \r"
     ]
    },
    {
     "name": "stdout",
     "output_type": "stream",
     "text": [
      "Epoch [37/100], Train Loss: 0.2260, Train Accuracy: 0.9077, Valid Loss: 0.2335, Valid Accuracy: 0.9050\n",
      "Validation loss did not improve for 4 epochs.\n"
     ]
    },
    {
     "name": "stderr",
     "output_type": "stream",
     "text": [
      "                                                                                        \r"
     ]
    },
    {
     "name": "stdout",
     "output_type": "stream",
     "text": [
      "Epoch [38/100], Train Loss: 0.2262, Train Accuracy: 0.9078, Valid Loss: 0.2314, Valid Accuracy: 0.9029\n",
      "Validation loss did not improve for 5 epochs.\n"
     ]
    },
    {
     "name": "stderr",
     "output_type": "stream",
     "text": [
      "                                                                                        \r"
     ]
    },
    {
     "name": "stdout",
     "output_type": "stream",
     "text": [
      "Epoch [39/100], Train Loss: 0.2232, Train Accuracy: 0.9081, Valid Loss: 0.2397, Valid Accuracy: 0.9031\n",
      "Validation loss did not improve for 6 epochs.\n"
     ]
    },
    {
     "name": "stderr",
     "output_type": "stream",
     "text": [
      "                                                                                        \r"
     ]
    },
    {
     "name": "stdout",
     "output_type": "stream",
     "text": [
      "Epoch [40/100], Train Loss: 0.2298, Train Accuracy: 0.9052, Valid Loss: 0.2329, Valid Accuracy: 0.9048\n",
      "Validation loss did not improve for 7 epochs.\n"
     ]
    },
    {
     "name": "stderr",
     "output_type": "stream",
     "text": [
      "                                                                                       \r"
     ]
    },
    {
     "name": "stdout",
     "output_type": "stream",
     "text": [
      "Epoch [41/100], Train Loss: 0.2296, Train Accuracy: 0.9061, Valid Loss: 0.2320, Valid Accuracy: 0.9047\n",
      "Validation loss did not improve for 8 epochs.\n"
     ]
    },
    {
     "name": "stderr",
     "output_type": "stream",
     "text": [
      "                                                                                       \r"
     ]
    },
    {
     "name": "stdout",
     "output_type": "stream",
     "text": [
      "Epoch [42/100], Train Loss: 0.2282, Train Accuracy: 0.9066, Valid Loss: 0.2356, Valid Accuracy: 0.9037\n",
      "Validation loss did not improve for 9 epochs.\n"
     ]
    },
    {
     "name": "stderr",
     "output_type": "stream",
     "text": [
      "                                                                                       "
     ]
    },
    {
     "name": "stdout",
     "output_type": "stream",
     "text": [
      "Epoch [43/100], Train Loss: 0.2276, Train Accuracy: 0.9063, Valid Loss: 0.2353, Valid Accuracy: 0.9043\n",
      "Validation loss did not improve for 10 epochs.\n",
      "Early stopping triggered.\n",
      "Training complete. Best model saved to: model_checkpoint.pth\n"
     ]
    },
    {
     "name": "stderr",
     "output_type": "stream",
     "text": [
      "\r"
     ]
    }
   ],
   "source": [
    "import torch\n",
    "import torch.nn as nn\n",
    "import torch.optim as optim\n",
    "from torch.utils.data import DataLoader, Dataset\n",
    "from sklearn.model_selection import train_test_split\n",
    "from sklearn.preprocessing import StandardScaler\n",
    "import numpy as np\n",
    "import pandas as pd\n",
    "from tqdm import tqdm\n",
    "\n",
    "# 설정 및 데이터 경로\n",
    "config = {\n",
    "    \"Data\": {\n",
    "        \"hla_embedding_path\": \"utils/1010basichla_embedding_diff1006.npy\",  # HLA 임베딩 경로\n",
    "        \"epitope_embedding_path\": \"utils/1010basicepitope_embeddings1006.npy\",  # Epitope 임베딩 경로\n",
    "        \"meta_data_path\": \"utils/1010basicencoded_sequences_metadata1006.csv\",  # 메타 데이터 경로 (타겟 값 불러오기 위함)\n",
    "        \"val_size\": 0.3,\n",
    "    },\n",
    "    \"Train\": {\n",
    "        \"num_epochs\": 100,\n",
    "        \"learning_rate\": 0.002,\n",
    "        \"batch_size\": 128,\n",
    "        \"model_save_path\": \"model_checkpoint.pth\",\n",
    "        \"early_stop_patience\": 10  # Early Stopping patience 설정\n",
    "    }\n",
    "}\n",
    "\n",
    "# 디바이스 설정 (GPU 사용 가능 시 GPU 사용)\n",
    "device = torch.device(\"cuda\" if torch.cuda.is_available() else \"cpu\")\n",
    "print(f\"Using device: {device}\")\n",
    "\n",
    "# HLA 임베딩과 Epitope 임베딩, 타겟 값 로드\n",
    "hla_embeddings = np.load(config[\"Data\"][\"hla_embedding_path\"], allow_pickle=True)\n",
    "epitope_embeddings = np.load(config[\"Data\"][\"epitope_embedding_path\"], allow_pickle=True)\n",
    "\n",
    "# 메타데이터 로드 (타겟 값만 사용)\n",
    "meta_data = pd.read_csv(config[\"Data\"][\"meta_data_path\"])\n",
    "targets = meta_data['target'].values.astype(np.float32)\n",
    "\n",
    "# HLA와 Epitope 임베딩을 선형 결합 (단순히 합친다)\n",
    "combined_embeddings = np.hstack((hla_embeddings, epitope_embeddings))\n",
    "\n",
    "# 데이터 표준화\n",
    "scaler = StandardScaler()\n",
    "combined_embeddings = scaler.fit_transform(combined_embeddings)\n",
    "\n",
    "# 데이터 분할\n",
    "X_train, X_valid, y_train, y_valid = train_test_split(combined_embeddings, targets, test_size=config[\"Data\"][\"val_size\"], random_state=42)\n",
    "\n",
    "# PyTorch Dataset 클래스 정의\n",
    "class SequenceDataset(Dataset):\n",
    "    def __init__(self, X, y):\n",
    "        self.X = torch.tensor(X, dtype=torch.float32)\n",
    "        self.y = torch.tensor(y, dtype=torch.float32)\n",
    "\n",
    "    def __len__(self):\n",
    "        return len(self.X)\n",
    "\n",
    "    def __getitem__(self, idx):\n",
    "        return self.X[idx].unsqueeze(0), self.y[idx]  # (channels, length) 형태로 변환\n",
    "\n",
    "# 데이터 로더 생성\n",
    "train_loader = DataLoader(SequenceDataset(X_train, y_train), batch_size=config[\"Train\"][\"batch_size\"], shuffle=True)\n",
    "valid_loader = DataLoader(SequenceDataset(X_valid, y_valid), batch_size=config[\"Train\"][\"batch_size\"], shuffle=False)\n",
    "\n",
    "# 트랜스포머 기반 이진 분류 모델 정의\n",
    "class BasicTransformerBinaryClassifier(nn.Module):\n",
    "    def __init__(self, input_dim=2560, num_heads=4, num_layers=2, hidden_dim=512):\n",
    "        super(BasicTransformerBinaryClassifier, self).__init__()\n",
    "        self.encoder_layer = nn.TransformerEncoderLayer(\n",
    "            d_model=input_dim, nhead=num_heads, dim_feedforward=hidden_dim, batch_first=True\n",
    "        )\n",
    "        self.transformer_encoder = nn.TransformerEncoder(self.encoder_layer, num_layers=num_layers)\n",
    "        self.classifier = nn.Sequential(\n",
    "            nn.Linear(input_dim, hidden_dim),  # 첫 번째 Linear Layer\n",
    "            nn.BatchNorm1d(hidden_dim),        # Batch Normalization\n",
    "            nn.ReLU(),                         # ReLU 활성화 함수\n",
    "            nn.Dropout(0.5),                   # 50% 드롭아웃\n",
    "    \n",
    "            nn.Linear(hidden_dim, hidden_dim // 2),  # 추가된 히든 레이어\n",
    "            nn.BatchNorm1d(hidden_dim // 2),         # Batch Normalization\n",
    "            nn.LeakyReLU(0.1),                       # LeakyReLU 활성화 함수\n",
    "            nn.Dropout(0.5),                         # 50% 드롭아웃\n",
    "    \n",
    "            nn.Linear(hidden_dim // 2, 1),  # 출력 레이어\n",
    "            nn.Sigmoid()                    # Sigmoid 활성화 함수\n",
    "        )\n",
    "\n",
    "    def forward(self, x):\n",
    "        x = self.transformer_encoder(x)  # 트랜스포머 인코더 통과\n",
    "        x = x[:, 0, :]  # 첫 번째 위치의 출력을 사용하여 이진 분류\n",
    "        return self.classifier(x).squeeze()\n",
    "\n",
    "# 모델, 손실 함수, 옵티마이저 정의\n",
    "model = BasicTransformerBinaryClassifier().to(device)\n",
    "criterion = nn.BCELoss()\n",
    "optimizer = optim.Adam(model.parameters(), lr=config[\"Train\"][\"learning_rate\"])\n",
    "\n",
    "# 학습 및 검증 루프\n",
    "num_epochs = config[\"Train\"][\"num_epochs\"]\n",
    "early_stop_patience = config[\"Train\"][\"early_stop_patience\"]\n",
    "best_valid_loss = float('inf')\n",
    "early_stop_counter = 0\n",
    "\n",
    "for epoch in range(num_epochs):\n",
    "    model.train()\n",
    "    train_loss = 0.0\n",
    "    correct_train = 0\n",
    "    total_train = 0\n",
    "\n",
    "    train_loader_tqdm = tqdm(train_loader, desc=f\"Training Epoch {epoch + 1}/{num_epochs}\", leave=False)\n",
    "    for batch_X, batch_y in train_loader_tqdm:\n",
    "        batch_X, batch_y = batch_X.to(device), batch_y.to(device)\n",
    "        optimizer.zero_grad()\n",
    "        outputs = model(batch_X)\n",
    "        loss = criterion(outputs, batch_y)\n",
    "        loss.backward()\n",
    "        optimizer.step()\n",
    "\n",
    "        train_loss += loss.item()\n",
    "        predicted_train = (outputs > 0.5).float()\n",
    "        correct_train += (predicted_train == batch_y).sum().item()\n",
    "        total_train += batch_y.size(0)\n",
    "        train_loader_tqdm.set_postfix(loss=loss.item())  # 실시간 loss 출력\n",
    "\n",
    "    train_accuracy = correct_train / total_train\n",
    "\n",
    "    # 검증 루프\n",
    "    model.eval()\n",
    "    valid_loss = 0.0\n",
    "    correct_valid = 0\n",
    "    total_valid = 0\n",
    "\n",
    "    valid_loader_tqdm = tqdm(valid_loader, desc=f\"Validation Epoch {epoch + 1}/{num_epochs}\", leave=False)\n",
    "    with torch.no_grad():\n",
    "        for batch_X, batch_y in valid_loader_tqdm:\n",
    "            batch_X, batch_y = batch_X.to(device), batch_y.to(device)\n",
    "            outputs = model(batch_X)\n",
    "            loss = criterion(outputs, batch_y)\n",
    "            valid_loss += loss.item()\n",
    "            predicted_valid = (outputs > 0.5).float()\n",
    "            correct_valid += (predicted_valid == batch_y).sum().item()\n",
    "            total_valid += batch_y.size(0)\n",
    "            valid_loader_tqdm.set_postfix(loss=loss.item())  # 실시간 loss 출력\n",
    "\n",
    "    valid_accuracy = correct_valid / total_valid\n",
    "\n",
    "    # 학습 결과 출력\n",
    "    print(f\"Epoch [{epoch + 1}/{num_epochs}], \"\n",
    "          f\"Train Loss: {train_loss / len(train_loader):.4f}, \"\n",
    "          f\"Train Accuracy: {train_accuracy:.4f}, \"\n",
    "          f\"Valid Loss: {valid_loss / len(valid_loader):.4f}, \"\n",
    "          f\"Valid Accuracy: {valid_accuracy:.4f}\")\n",
    "\n",
    "    # Early Stopping 체크\n",
    "    if valid_loss < best_valid_loss:\n",
    "        best_valid_loss = valid_loss\n",
    "        early_stop_counter = 0\n",
    "        # 최적의 모델 저장\n",
    "        torch.save(model.state_dict(), config[\"Train\"][\"model_save_path\"])\n",
    "        print(f\"Validation loss improved, model saved to {config['Train']['model_save_path']}\")\n",
    "    else:\n",
    "        early_stop_counter += 1\n",
    "        print(f\"Validation loss did not improve for {early_stop_counter} epochs.\")\n",
    "\n",
    "    # Early Stopping 조건 만족 시 학습 종료\n",
    "    if early_stop_counter >= early_stop_patience:\n",
    "        print(\"Early stopping triggered.\")\n",
    "        break\n",
    "\n",
    "print(\"Training complete. Best model saved to:\", config[\"Train\"][\"model_save_path\"])\n"
   ]
  },
  {
   "cell_type": "code",
   "execution_count": 1,
   "metadata": {},
   "outputs": [
    {
     "name": "stdout",
     "output_type": "stream",
     "text": [
      "Using device: cuda\n"
     ]
    },
    {
     "name": "stderr",
     "output_type": "stream",
     "text": [
      "                                                                                      \r"
     ]
    },
    {
     "name": "stdout",
     "output_type": "stream",
     "text": [
      "Epoch [1/100], Train Loss: 0.4562, Train Accuracy: 0.7684, Valid Loss: 0.3994, Valid Accuracy: 0.8153\n",
      "Validation loss improved, model saved to model_checkpoint1007.pth\n"
     ]
    },
    {
     "name": "stderr",
     "output_type": "stream",
     "text": [
      "                                                                                      \r"
     ]
    },
    {
     "name": "stdout",
     "output_type": "stream",
     "text": [
      "Epoch [2/100], Train Loss: 0.3815, Train Accuracy: 0.8330, Valid Loss: 0.3997, Valid Accuracy: 0.8164\n",
      "Validation loss did not improve for 1 epochs.\n"
     ]
    },
    {
     "name": "stderr",
     "output_type": "stream",
     "text": [
      "                                                                                      \r"
     ]
    },
    {
     "name": "stdout",
     "output_type": "stream",
     "text": [
      "Epoch [3/100], Train Loss: 0.3544, Train Accuracy: 0.8486, Valid Loss: 0.3461, Valid Accuracy: 0.8519\n",
      "Validation loss improved, model saved to model_checkpoint1007.pth\n"
     ]
    },
    {
     "name": "stderr",
     "output_type": "stream",
     "text": [
      "                                                                                      \r"
     ]
    },
    {
     "name": "stdout",
     "output_type": "stream",
     "text": [
      "Epoch [4/100], Train Loss: 0.3389, Train Accuracy: 0.8568, Valid Loss: 0.3271, Valid Accuracy: 0.8610\n",
      "Validation loss improved, model saved to model_checkpoint1007.pth\n"
     ]
    },
    {
     "name": "stderr",
     "output_type": "stream",
     "text": [
      "                                                                                      \r"
     ]
    },
    {
     "name": "stdout",
     "output_type": "stream",
     "text": [
      "Epoch [5/100], Train Loss: 0.3281, Train Accuracy: 0.8619, Valid Loss: 0.3188, Valid Accuracy: 0.8610\n",
      "Validation loss improved, model saved to model_checkpoint1007.pth\n"
     ]
    },
    {
     "name": "stderr",
     "output_type": "stream",
     "text": [
      "                                                                                      \r"
     ]
    },
    {
     "name": "stdout",
     "output_type": "stream",
     "text": [
      "Epoch [6/100], Train Loss: 0.3179, Train Accuracy: 0.8657, Valid Loss: 0.3055, Valid Accuracy: 0.8696\n",
      "Validation loss improved, model saved to model_checkpoint1007.pth\n"
     ]
    },
    {
     "name": "stderr",
     "output_type": "stream",
     "text": [
      "                                                                                      \r"
     ]
    },
    {
     "name": "stdout",
     "output_type": "stream",
     "text": [
      "Epoch [7/100], Train Loss: 0.3086, Train Accuracy: 0.8697, Valid Loss: 0.2970, Valid Accuracy: 0.8741\n",
      "Validation loss improved, model saved to model_checkpoint1007.pth\n"
     ]
    },
    {
     "name": "stderr",
     "output_type": "stream",
     "text": [
      "                                                                                      \r"
     ]
    },
    {
     "name": "stdout",
     "output_type": "stream",
     "text": [
      "Epoch [8/100], Train Loss: 0.3003, Train Accuracy: 0.8749, Valid Loss: 0.2974, Valid Accuracy: 0.8751\n",
      "Validation loss did not improve for 1 epochs.\n"
     ]
    },
    {
     "name": "stderr",
     "output_type": "stream",
     "text": [
      "                                                                                      \r"
     ]
    },
    {
     "name": "stdout",
     "output_type": "stream",
     "text": [
      "Epoch [9/100], Train Loss: 0.2956, Train Accuracy: 0.8765, Valid Loss: 0.2871, Valid Accuracy: 0.8781\n",
      "Validation loss improved, model saved to model_checkpoint1007.pth\n"
     ]
    },
    {
     "name": "stderr",
     "output_type": "stream",
     "text": [
      "                                                                                       \r"
     ]
    },
    {
     "name": "stdout",
     "output_type": "stream",
     "text": [
      "Epoch [10/100], Train Loss: 0.2891, Train Accuracy: 0.8800, Valid Loss: 0.2900, Valid Accuracy: 0.8770\n",
      "Validation loss did not improve for 1 epochs.\n"
     ]
    },
    {
     "name": "stderr",
     "output_type": "stream",
     "text": [
      "                                                                                       \r"
     ]
    },
    {
     "name": "stdout",
     "output_type": "stream",
     "text": [
      "Epoch [11/100], Train Loss: 0.2836, Train Accuracy: 0.8829, Valid Loss: 0.2863, Valid Accuracy: 0.8806\n",
      "Validation loss improved, model saved to model_checkpoint1007.pth\n"
     ]
    },
    {
     "name": "stderr",
     "output_type": "stream",
     "text": [
      "                                                                                       \r"
     ]
    },
    {
     "name": "stdout",
     "output_type": "stream",
     "text": [
      "Epoch [12/100], Train Loss: 0.2790, Train Accuracy: 0.8848, Valid Loss: 0.2770, Valid Accuracy: 0.8819\n",
      "Validation loss improved, model saved to model_checkpoint1007.pth\n"
     ]
    },
    {
     "name": "stderr",
     "output_type": "stream",
     "text": [
      "                                                                                       \r"
     ]
    },
    {
     "name": "stdout",
     "output_type": "stream",
     "text": [
      "Epoch [13/100], Train Loss: 0.2742, Train Accuracy: 0.8865, Valid Loss: 0.2788, Valid Accuracy: 0.8825\n",
      "Validation loss did not improve for 1 epochs.\n"
     ]
    },
    {
     "name": "stderr",
     "output_type": "stream",
     "text": [
      "                                                                                       \r"
     ]
    },
    {
     "name": "stdout",
     "output_type": "stream",
     "text": [
      "Epoch [14/100], Train Loss: 0.2703, Train Accuracy: 0.8895, Valid Loss: 0.2693, Valid Accuracy: 0.8871\n",
      "Validation loss improved, model saved to model_checkpoint1007.pth\n"
     ]
    },
    {
     "name": "stderr",
     "output_type": "stream",
     "text": [
      "                                                                                       \r"
     ]
    },
    {
     "name": "stdout",
     "output_type": "stream",
     "text": [
      "Epoch [15/100], Train Loss: 0.2659, Train Accuracy: 0.8917, Valid Loss: 0.2730, Valid Accuracy: 0.8855\n",
      "Validation loss did not improve for 1 epochs.\n"
     ]
    },
    {
     "name": "stderr",
     "output_type": "stream",
     "text": [
      "                                                                                       \r"
     ]
    },
    {
     "name": "stdout",
     "output_type": "stream",
     "text": [
      "Epoch [16/100], Train Loss: 0.2642, Train Accuracy: 0.8919, Valid Loss: 0.2715, Valid Accuracy: 0.8862\n",
      "Validation loss did not improve for 2 epochs.\n"
     ]
    },
    {
     "name": "stderr",
     "output_type": "stream",
     "text": [
      "                                                                                       \r"
     ]
    },
    {
     "name": "stdout",
     "output_type": "stream",
     "text": [
      "Epoch [17/100], Train Loss: 0.2605, Train Accuracy: 0.8929, Valid Loss: 0.2706, Valid Accuracy: 0.8872\n",
      "Validation loss did not improve for 3 epochs.\n"
     ]
    },
    {
     "name": "stderr",
     "output_type": "stream",
     "text": [
      "                                                                                       \r"
     ]
    },
    {
     "name": "stdout",
     "output_type": "stream",
     "text": [
      "Epoch [18/100], Train Loss: 0.2571, Train Accuracy: 0.8948, Valid Loss: 0.2646, Valid Accuracy: 0.8884\n",
      "Validation loss improved, model saved to model_checkpoint1007.pth\n"
     ]
    },
    {
     "name": "stderr",
     "output_type": "stream",
     "text": [
      "                                                                                       \r"
     ]
    },
    {
     "name": "stdout",
     "output_type": "stream",
     "text": [
      "Epoch [19/100], Train Loss: 0.2569, Train Accuracy: 0.8950, Valid Loss: 0.2645, Valid Accuracy: 0.8887\n",
      "Validation loss improved, model saved to model_checkpoint1007.pth\n"
     ]
    },
    {
     "name": "stderr",
     "output_type": "stream",
     "text": [
      "                                                                                       \r"
     ]
    },
    {
     "name": "stdout",
     "output_type": "stream",
     "text": [
      "Epoch [20/100], Train Loss: 0.2534, Train Accuracy: 0.8962, Valid Loss: 0.2657, Valid Accuracy: 0.8892\n",
      "Validation loss did not improve for 1 epochs.\n"
     ]
    },
    {
     "name": "stderr",
     "output_type": "stream",
     "text": [
      "                                                                                       \r"
     ]
    },
    {
     "name": "stdout",
     "output_type": "stream",
     "text": [
      "Epoch [21/100], Train Loss: 0.2533, Train Accuracy: 0.8968, Valid Loss: 0.2582, Valid Accuracy: 0.8926\n",
      "Validation loss improved, model saved to model_checkpoint1007.pth\n"
     ]
    },
    {
     "name": "stderr",
     "output_type": "stream",
     "text": [
      "                                                                                       \r"
     ]
    },
    {
     "name": "stdout",
     "output_type": "stream",
     "text": [
      "Epoch [22/100], Train Loss: 0.2482, Train Accuracy: 0.8991, Valid Loss: 0.2638, Valid Accuracy: 0.8906\n",
      "Validation loss did not improve for 1 epochs.\n"
     ]
    },
    {
     "name": "stderr",
     "output_type": "stream",
     "text": [
      "                                                                                       \r"
     ]
    },
    {
     "name": "stdout",
     "output_type": "stream",
     "text": [
      "Epoch [23/100], Train Loss: 0.2506, Train Accuracy: 0.8982, Valid Loss: 0.2557, Valid Accuracy: 0.8920\n",
      "Validation loss improved, model saved to model_checkpoint1007.pth\n"
     ]
    },
    {
     "name": "stderr",
     "output_type": "stream",
     "text": [
      "                                                                                       \r"
     ]
    },
    {
     "name": "stdout",
     "output_type": "stream",
     "text": [
      "Epoch [24/100], Train Loss: 0.2451, Train Accuracy: 0.9003, Valid Loss: 0.2569, Valid Accuracy: 0.8939\n",
      "Validation loss did not improve for 1 epochs.\n"
     ]
    },
    {
     "name": "stderr",
     "output_type": "stream",
     "text": [
      "                                                                                       \r"
     ]
    },
    {
     "name": "stdout",
     "output_type": "stream",
     "text": [
      "Epoch [25/100], Train Loss: 0.2421, Train Accuracy: 0.9024, Valid Loss: 0.2581, Valid Accuracy: 0.8956\n",
      "Validation loss did not improve for 2 epochs.\n"
     ]
    },
    {
     "name": "stderr",
     "output_type": "stream",
     "text": [
      "                                                                                       \r"
     ]
    },
    {
     "name": "stdout",
     "output_type": "stream",
     "text": [
      "Epoch [26/100], Train Loss: 0.2394, Train Accuracy: 0.9029, Valid Loss: 0.2614, Valid Accuracy: 0.8915\n",
      "Validation loss did not improve for 3 epochs.\n"
     ]
    },
    {
     "name": "stderr",
     "output_type": "stream",
     "text": [
      "                                                                                       \r"
     ]
    },
    {
     "name": "stdout",
     "output_type": "stream",
     "text": [
      "Epoch [27/100], Train Loss: 0.2386, Train Accuracy: 0.9026, Valid Loss: 0.2539, Valid Accuracy: 0.8940\n",
      "Validation loss improved, model saved to model_checkpoint1007.pth\n"
     ]
    },
    {
     "name": "stderr",
     "output_type": "stream",
     "text": [
      "                                                                                       \r"
     ]
    },
    {
     "name": "stdout",
     "output_type": "stream",
     "text": [
      "Epoch [28/100], Train Loss: 0.2375, Train Accuracy: 0.9042, Valid Loss: 0.2495, Valid Accuracy: 0.8955\n",
      "Validation loss improved, model saved to model_checkpoint1007.pth\n"
     ]
    },
    {
     "name": "stderr",
     "output_type": "stream",
     "text": [
      "                                                                                       \r"
     ]
    },
    {
     "name": "stdout",
     "output_type": "stream",
     "text": [
      "Epoch [29/100], Train Loss: 0.2344, Train Accuracy: 0.9052, Valid Loss: 0.2480, Valid Accuracy: 0.8969\n",
      "Validation loss improved, model saved to model_checkpoint1007.pth\n"
     ]
    },
    {
     "name": "stderr",
     "output_type": "stream",
     "text": [
      "                                                                                       \r"
     ]
    },
    {
     "name": "stdout",
     "output_type": "stream",
     "text": [
      "Epoch [30/100], Train Loss: 0.2328, Train Accuracy: 0.9056, Valid Loss: 0.2493, Valid Accuracy: 0.8975\n",
      "Validation loss did not improve for 1 epochs.\n"
     ]
    },
    {
     "name": "stderr",
     "output_type": "stream",
     "text": [
      "                                                                                       \r"
     ]
    },
    {
     "name": "stdout",
     "output_type": "stream",
     "text": [
      "Epoch [31/100], Train Loss: 0.2311, Train Accuracy: 0.9071, Valid Loss: 0.2434, Valid Accuracy: 0.8998\n",
      "Validation loss improved, model saved to model_checkpoint1007.pth\n"
     ]
    },
    {
     "name": "stderr",
     "output_type": "stream",
     "text": [
      "                                                                                       \r"
     ]
    },
    {
     "name": "stdout",
     "output_type": "stream",
     "text": [
      "Epoch [32/100], Train Loss: 0.2286, Train Accuracy: 0.9079, Valid Loss: 0.2457, Valid Accuracy: 0.8967\n",
      "Validation loss did not improve for 1 epochs.\n"
     ]
    },
    {
     "name": "stderr",
     "output_type": "stream",
     "text": [
      "                                                                                       \r"
     ]
    },
    {
     "name": "stdout",
     "output_type": "stream",
     "text": [
      "Epoch [33/100], Train Loss: 0.2270, Train Accuracy: 0.9089, Valid Loss: 0.2492, Valid Accuracy: 0.8972\n",
      "Validation loss did not improve for 2 epochs.\n"
     ]
    },
    {
     "name": "stderr",
     "output_type": "stream",
     "text": [
      "                                                                                       \r"
     ]
    },
    {
     "name": "stdout",
     "output_type": "stream",
     "text": [
      "Epoch [34/100], Train Loss: 0.2244, Train Accuracy: 0.9100, Valid Loss: 0.2418, Valid Accuracy: 0.9000\n",
      "Validation loss improved, model saved to model_checkpoint1007.pth\n"
     ]
    },
    {
     "name": "stderr",
     "output_type": "stream",
     "text": [
      "                                                                                       \r"
     ]
    },
    {
     "name": "stdout",
     "output_type": "stream",
     "text": [
      "Epoch [35/100], Train Loss: 0.2261, Train Accuracy: 0.9090, Valid Loss: 0.2439, Valid Accuracy: 0.8994\n",
      "Validation loss did not improve for 1 epochs.\n"
     ]
    },
    {
     "name": "stderr",
     "output_type": "stream",
     "text": [
      "                                                                                       \r"
     ]
    },
    {
     "name": "stdout",
     "output_type": "stream",
     "text": [
      "Epoch [36/100], Train Loss: 0.2259, Train Accuracy: 0.9097, Valid Loss: 0.2437, Valid Accuracy: 0.8978\n",
      "Validation loss did not improve for 2 epochs.\n"
     ]
    },
    {
     "name": "stderr",
     "output_type": "stream",
     "text": [
      "                                                                                       \r"
     ]
    },
    {
     "name": "stdout",
     "output_type": "stream",
     "text": [
      "Epoch [37/100], Train Loss: 0.2216, Train Accuracy: 0.9111, Valid Loss: 0.2358, Valid Accuracy: 0.9024\n",
      "Validation loss improved, model saved to model_checkpoint1007.pth\n"
     ]
    },
    {
     "name": "stderr",
     "output_type": "stream",
     "text": [
      "                                                                                       \r"
     ]
    },
    {
     "name": "stdout",
     "output_type": "stream",
     "text": [
      "Epoch [38/100], Train Loss: 0.2195, Train Accuracy: 0.9120, Valid Loss: 0.2444, Valid Accuracy: 0.8992\n",
      "Validation loss did not improve for 1 epochs.\n"
     ]
    },
    {
     "name": "stderr",
     "output_type": "stream",
     "text": [
      "                                                                                       \r"
     ]
    },
    {
     "name": "stdout",
     "output_type": "stream",
     "text": [
      "Epoch [39/100], Train Loss: 0.2176, Train Accuracy: 0.9124, Valid Loss: 0.2395, Valid Accuracy: 0.8994\n",
      "Validation loss did not improve for 2 epochs.\n"
     ]
    },
    {
     "name": "stderr",
     "output_type": "stream",
     "text": [
      "                                                                                       \r"
     ]
    },
    {
     "name": "stdout",
     "output_type": "stream",
     "text": [
      "Epoch [40/100], Train Loss: 0.2206, Train Accuracy: 0.9113, Valid Loss: 0.2402, Valid Accuracy: 0.9017\n",
      "Validation loss did not improve for 3 epochs.\n"
     ]
    },
    {
     "name": "stderr",
     "output_type": "stream",
     "text": [
      "                                                                                       \r"
     ]
    },
    {
     "name": "stdout",
     "output_type": "stream",
     "text": [
      "Epoch [41/100], Train Loss: 0.2197, Train Accuracy: 0.9117, Valid Loss: 0.2362, Valid Accuracy: 0.9013\n",
      "Validation loss did not improve for 4 epochs.\n"
     ]
    },
    {
     "name": "stderr",
     "output_type": "stream",
     "text": [
      "                                                                                       \r"
     ]
    },
    {
     "name": "stdout",
     "output_type": "stream",
     "text": [
      "Epoch [42/100], Train Loss: 0.2193, Train Accuracy: 0.9126, Valid Loss: 0.2365, Valid Accuracy: 0.9029\n",
      "Validation loss did not improve for 5 epochs.\n"
     ]
    },
    {
     "name": "stderr",
     "output_type": "stream",
     "text": [
      "                                                                                       \r"
     ]
    },
    {
     "name": "stdout",
     "output_type": "stream",
     "text": [
      "Epoch [43/100], Train Loss: 0.2202, Train Accuracy: 0.9126, Valid Loss: 0.2368, Valid Accuracy: 0.9037\n",
      "Validation loss did not improve for 6 epochs.\n"
     ]
    },
    {
     "name": "stderr",
     "output_type": "stream",
     "text": [
      "                                                                                       \r"
     ]
    },
    {
     "name": "stdout",
     "output_type": "stream",
     "text": [
      "Epoch [44/100], Train Loss: 0.2164, Train Accuracy: 0.9134, Valid Loss: 0.2425, Valid Accuracy: 0.9019\n",
      "Validation loss did not improve for 7 epochs.\n"
     ]
    },
    {
     "name": "stderr",
     "output_type": "stream",
     "text": [
      "                                                                                       \r"
     ]
    },
    {
     "name": "stdout",
     "output_type": "stream",
     "text": [
      "Epoch [45/100], Train Loss: 0.2156, Train Accuracy: 0.9132, Valid Loss: 0.2383, Valid Accuracy: 0.9015\n",
      "Validation loss did not improve for 8 epochs.\n"
     ]
    },
    {
     "name": "stderr",
     "output_type": "stream",
     "text": [
      "                                                                                       \r"
     ]
    },
    {
     "name": "stdout",
     "output_type": "stream",
     "text": [
      "Epoch [46/100], Train Loss: 0.2131, Train Accuracy: 0.9139, Valid Loss: 0.2357, Valid Accuracy: 0.9022\n",
      "Validation loss improved, model saved to model_checkpoint1007.pth\n"
     ]
    },
    {
     "name": "stderr",
     "output_type": "stream",
     "text": [
      "                                                                                       \r"
     ]
    },
    {
     "name": "stdout",
     "output_type": "stream",
     "text": [
      "Epoch [47/100], Train Loss: 0.2119, Train Accuracy: 0.9155, Valid Loss: 0.2373, Valid Accuracy: 0.9019\n",
      "Validation loss did not improve for 1 epochs.\n"
     ]
    },
    {
     "name": "stderr",
     "output_type": "stream",
     "text": [
      "                                                                                       \r"
     ]
    },
    {
     "name": "stdout",
     "output_type": "stream",
     "text": [
      "Epoch [48/100], Train Loss: 0.2118, Train Accuracy: 0.9150, Valid Loss: 0.2377, Valid Accuracy: 0.9017\n",
      "Validation loss did not improve for 2 epochs.\n"
     ]
    },
    {
     "name": "stderr",
     "output_type": "stream",
     "text": [
      "                                                                                       \r"
     ]
    },
    {
     "name": "stdout",
     "output_type": "stream",
     "text": [
      "Epoch [49/100], Train Loss: 0.2118, Train Accuracy: 0.9148, Valid Loss: 0.2345, Valid Accuracy: 0.9052\n",
      "Validation loss improved, model saved to model_checkpoint1007.pth\n"
     ]
    },
    {
     "name": "stderr",
     "output_type": "stream",
     "text": [
      "                                                                                       \r"
     ]
    },
    {
     "name": "stdout",
     "output_type": "stream",
     "text": [
      "Epoch [50/100], Train Loss: 0.2107, Train Accuracy: 0.9163, Valid Loss: 0.2343, Valid Accuracy: 0.9031\n",
      "Validation loss improved, model saved to model_checkpoint1007.pth\n"
     ]
    },
    {
     "name": "stderr",
     "output_type": "stream",
     "text": [
      "                                                                                       \r"
     ]
    },
    {
     "name": "stdout",
     "output_type": "stream",
     "text": [
      "Epoch [51/100], Train Loss: 0.2124, Train Accuracy: 0.9153, Valid Loss: 0.2346, Valid Accuracy: 0.9029\n",
      "Validation loss did not improve for 1 epochs.\n"
     ]
    },
    {
     "name": "stderr",
     "output_type": "stream",
     "text": [
      "                                                                                       \r"
     ]
    },
    {
     "name": "stdout",
     "output_type": "stream",
     "text": [
      "Epoch [52/100], Train Loss: 0.2091, Train Accuracy: 0.9163, Valid Loss: 0.2376, Valid Accuracy: 0.9029\n",
      "Validation loss did not improve for 2 epochs.\n"
     ]
    },
    {
     "name": "stderr",
     "output_type": "stream",
     "text": [
      "                                                                                       \r"
     ]
    },
    {
     "name": "stdout",
     "output_type": "stream",
     "text": [
      "Epoch [53/100], Train Loss: 0.2069, Train Accuracy: 0.9173, Valid Loss: 0.2355, Valid Accuracy: 0.9046\n",
      "Validation loss did not improve for 3 epochs.\n"
     ]
    },
    {
     "name": "stderr",
     "output_type": "stream",
     "text": [
      "                                                                                       \r"
     ]
    },
    {
     "name": "stdout",
     "output_type": "stream",
     "text": [
      "Epoch [54/100], Train Loss: 0.2086, Train Accuracy: 0.9163, Valid Loss: 0.2350, Valid Accuracy: 0.9037\n",
      "Validation loss did not improve for 4 epochs.\n"
     ]
    },
    {
     "name": "stderr",
     "output_type": "stream",
     "text": [
      "                                                                                       \r"
     ]
    },
    {
     "name": "stdout",
     "output_type": "stream",
     "text": [
      "Epoch [55/100], Train Loss: 0.2122, Train Accuracy: 0.9146, Valid Loss: 0.2310, Valid Accuracy: 0.9053\n",
      "Validation loss improved, model saved to model_checkpoint1007.pth\n"
     ]
    },
    {
     "name": "stderr",
     "output_type": "stream",
     "text": [
      "                                                                                       \r"
     ]
    },
    {
     "name": "stdout",
     "output_type": "stream",
     "text": [
      "Epoch [56/100], Train Loss: 0.2073, Train Accuracy: 0.9163, Valid Loss: 0.2362, Valid Accuracy: 0.9038\n",
      "Validation loss did not improve for 1 epochs.\n"
     ]
    },
    {
     "name": "stderr",
     "output_type": "stream",
     "text": [
      "                                                                                       \r"
     ]
    },
    {
     "name": "stdout",
     "output_type": "stream",
     "text": [
      "Epoch [57/100], Train Loss: 0.2072, Train Accuracy: 0.9165, Valid Loss: 0.2359, Valid Accuracy: 0.9013\n",
      "Validation loss did not improve for 2 epochs.\n"
     ]
    },
    {
     "name": "stderr",
     "output_type": "stream",
     "text": [
      "                                                                                       \r"
     ]
    },
    {
     "name": "stdout",
     "output_type": "stream",
     "text": [
      "Epoch [58/100], Train Loss: 0.2051, Train Accuracy: 0.9170, Valid Loss: 0.2352, Valid Accuracy: 0.9029\n",
      "Validation loss did not improve for 3 epochs.\n"
     ]
    },
    {
     "name": "stderr",
     "output_type": "stream",
     "text": [
      "                                                                                       \r"
     ]
    },
    {
     "name": "stdout",
     "output_type": "stream",
     "text": [
      "Epoch [59/100], Train Loss: 0.2038, Train Accuracy: 0.9179, Valid Loss: 0.2422, Valid Accuracy: 0.9049\n",
      "Validation loss did not improve for 4 epochs.\n"
     ]
    },
    {
     "name": "stderr",
     "output_type": "stream",
     "text": [
      "                                                                                       \r"
     ]
    },
    {
     "name": "stdout",
     "output_type": "stream",
     "text": [
      "Epoch [60/100], Train Loss: 0.2117, Train Accuracy: 0.9157, Valid Loss: 0.2365, Valid Accuracy: 0.9042\n",
      "Validation loss did not improve for 5 epochs.\n"
     ]
    },
    {
     "name": "stderr",
     "output_type": "stream",
     "text": [
      "                                                                                       \r"
     ]
    },
    {
     "name": "stdout",
     "output_type": "stream",
     "text": [
      "Epoch [61/100], Train Loss: 0.2034, Train Accuracy: 0.9181, Valid Loss: 0.2329, Valid Accuracy: 0.9054\n",
      "Validation loss did not improve for 6 epochs.\n"
     ]
    },
    {
     "name": "stderr",
     "output_type": "stream",
     "text": [
      "                                                                                       \r"
     ]
    },
    {
     "name": "stdout",
     "output_type": "stream",
     "text": [
      "Epoch [62/100], Train Loss: 0.2027, Train Accuracy: 0.9190, Valid Loss: 0.2374, Valid Accuracy: 0.9023\n",
      "Validation loss did not improve for 7 epochs.\n"
     ]
    },
    {
     "name": "stderr",
     "output_type": "stream",
     "text": [
      "                                                                                       \r"
     ]
    },
    {
     "name": "stdout",
     "output_type": "stream",
     "text": [
      "Epoch [63/100], Train Loss: 0.2014, Train Accuracy: 0.9190, Valid Loss: 0.2353, Valid Accuracy: 0.9041\n",
      "Validation loss did not improve for 8 epochs.\n"
     ]
    },
    {
     "name": "stderr",
     "output_type": "stream",
     "text": [
      "                                                                                       \r"
     ]
    },
    {
     "name": "stdout",
     "output_type": "stream",
     "text": [
      "Epoch [64/100], Train Loss: 0.2012, Train Accuracy: 0.9197, Valid Loss: 0.2390, Valid Accuracy: 0.9023\n",
      "Validation loss did not improve for 9 epochs.\n"
     ]
    },
    {
     "name": "stderr",
     "output_type": "stream",
     "text": [
      "                                                                                       "
     ]
    },
    {
     "name": "stdout",
     "output_type": "stream",
     "text": [
      "Epoch [65/100], Train Loss: 0.2012, Train Accuracy: 0.9201, Valid Loss: 0.2344, Valid Accuracy: 0.9035\n",
      "Validation loss did not improve for 10 epochs.\n",
      "Early stopping triggered.\n",
      "Training complete. Best model saved to: model_checkpoint1007.pth\n"
     ]
    },
    {
     "name": "stderr",
     "output_type": "stream",
     "text": [
      "\r"
     ]
    }
   ],
   "source": [
    "import torch\n",
    "import torch.nn as nn\n",
    "import torch.optim as optim\n",
    "from torch.utils.data import DataLoader, Dataset\n",
    "from sklearn.model_selection import train_test_split\n",
    "from sklearn.preprocessing import StandardScaler\n",
    "import numpy as np\n",
    "import pandas as pd\n",
    "from tqdm import tqdm\n",
    "\n",
    "# 설정 및 데이터 경로\n",
    "config = {\n",
    "    \"Data\": {\n",
    "        \"hla_embedding_path\": \"utils/hla_embedding_diff1006.npy\",  # HLA 임베딩 경로\n",
    "        \"epitope_embedding_path\": \"utils/epitope_embeddings1006.npy\",  # Epitope 임베딩 경로\n",
    "        \"meta_data_path\": \"utils/encoded_sequences_metadata1006.csv\",  # 메타 데이터 경로 (타겟 값 불러오기 위함)\n",
    "        \"val_size\": 0.3,\n",
    "    },\n",
    "    \"Train\": {\n",
    "        \"num_epochs\": 100,\n",
    "        \"learning_rate\": 0.005,\n",
    "        \"batch_size\": 256,\n",
    "        \"model_save_path\": \"model_checkpoint1007.pth\",\n",
    "        \"early_stop_patience\": 10  # Early Stopping patience 설정\n",
    "    }\n",
    "}\n",
    "\n",
    "# 디바이스 설정 (GPU 사용 가능 시 GPU 사용)\n",
    "device = torch.device(\"cuda\" if torch.cuda.is_available() else \"cpu\")\n",
    "print(f\"Using device: {device}\")\n",
    "\n",
    "# HLA 임베딩과 Epitope 임베딩, 타겟 값 로드\n",
    "hla_embeddings = np.load(config[\"Data\"][\"hla_embedding_path\"], allow_pickle=True)\n",
    "epitope_embeddings = np.load(config[\"Data\"][\"epitope_embedding_path\"], allow_pickle=True)\n",
    "\n",
    "# 메타데이터 로드 (타겟 값과 HLA 이름 불러오기)\n",
    "meta_data = pd.read_csv(config[\"Data\"][\"meta_data_path\"])\n",
    "targets = meta_data['target'].values.astype(np.float32)\n",
    "hla_names = meta_data['hla_name'].values\n",
    "\n",
    "# HLA 임베딩을 HLA 이름에 맞게 매핑 (딕셔너리 형태로 저장)\n",
    "hla_name_to_embedding = {hla_name: hla_embedding for hla_name, hla_embedding in zip(hla_names, hla_embeddings)}\n",
    "\n",
    "# Epitope 임베딩에 맞는 HLA 임베딩을 결합\n",
    "combined_embeddings = []\n",
    "for i, row in meta_data.iterrows():\n",
    "    hla_name = row['hla_name']\n",
    "    epitope_embedding = epitope_embeddings[i]\n",
    "    \n",
    "    # HLA 이름에 맞는 HLA 임베딩을 찾음\n",
    "    hla_embedding = hla_name_to_embedding.get(hla_name)\n",
    "    \n",
    "    # HLA 임베딩과 Epitope 임베딩을 결합\n",
    "    combined_embedding = np.hstack((hla_embedding, epitope_embedding))\n",
    "    combined_embeddings.append(combined_embedding)\n",
    "\n",
    "combined_embeddings = np.array(combined_embeddings)\n",
    "\n",
    "# 데이터 표준화\n",
    "scaler = StandardScaler()\n",
    "combined_embeddings = scaler.fit_transform(combined_embeddings)\n",
    "\n",
    "# 데이터 분할\n",
    "X_train, X_valid, y_train, y_valid = train_test_split(combined_embeddings, targets, test_size=config[\"Data\"][\"val_size\"], random_state=42)\n",
    "\n",
    "# PyTorch Dataset 클래스 정의\n",
    "class SequenceDataset(Dataset):\n",
    "    def __init__(self, X, y):\n",
    "        self.X = torch.tensor(X, dtype=torch.float32)\n",
    "        self.y = torch.tensor(y, dtype=torch.float32)\n",
    "\n",
    "    def __len__(self):\n",
    "        return len(self.X)\n",
    "\n",
    "    def __getitem__(self, idx):\n",
    "        return self.X[idx].unsqueeze(0), self.y[idx]  # (channels, length) 형태로 변환\n",
    "\n",
    "# 데이터 로더 생성\n",
    "train_loader = DataLoader(SequenceDataset(X_train, y_train), batch_size=config[\"Train\"][\"batch_size\"], shuffle=True)\n",
    "valid_loader = DataLoader(SequenceDataset(X_valid, y_valid), batch_size=config[\"Train\"][\"batch_size\"], shuffle=False)\n",
    "\n",
    "# 트랜스포머 기반 이진 분류 모델 정의\n",
    "class BasicTransformerBinaryClassifier(nn.Module):\n",
    "    def __init__(self, input_dim=2560, num_heads=8, num_layers=2, hidden_dim=512):\n",
    "        super(BasicTransformerBinaryClassifier, self).__init__()\n",
    "        self.encoder_layer = nn.TransformerEncoderLayer(\n",
    "            d_model=input_dim, nhead=num_heads, dim_feedforward=hidden_dim, batch_first=True\n",
    "        )\n",
    "        self.transformer_encoder = nn.TransformerEncoder(self.encoder_layer, num_layers=num_layers)\n",
    "        self.classifier = nn.Sequential(\n",
    "            nn.Linear(input_dim, hidden_dim),  # 첫 번째 Linear Layer\n",
    "            nn.BatchNorm1d(hidden_dim),        # Batch Normalization\n",
    "            nn.ReLU(),                         # ReLU 활성화 함수\n",
    "            nn.Dropout(0.5),                   # 50% 드롭아웃\n",
    "    \n",
    "            nn.Linear(hidden_dim, hidden_dim // 2),  # 추가된 히든 레이어\n",
    "            nn.BatchNorm1d(hidden_dim // 2),         # Batch Normalization\n",
    "            nn.LeakyReLU(0.1),                       # LeakyReLU 활성화 함수\n",
    "            nn.Dropout(0.5),                         # 50% 드롭아웃\n",
    "    \n",
    "            nn.Linear(hidden_dim // 2, 1),  # 출력 레이어\n",
    "            nn.Sigmoid()                    # Sigmoid 활성화 함수\n",
    "        )\n",
    "\n",
    "    def forward(self, x):\n",
    "        x = self.transformer_encoder(x)  # 트랜스포머 인코더 통과\n",
    "        x = x[:, 0, :]  # 첫 번째 위치의 출력을 사용하여 이진 분류\n",
    "        return self.classifier(x).squeeze()\n",
    "\n",
    "# 모델, 손실 함수, 옵티마이저 정의\n",
    "model = BasicTransformerBinaryClassifier().to(device)\n",
    "criterion = nn.BCELoss()\n",
    "optimizer = optim.Adam(model.parameters(), lr=config[\"Train\"][\"learning_rate\"])\n",
    "\n",
    "# 학습 및 검증 루프\n",
    "num_epochs = config[\"Train\"][\"num_epochs\"]\n",
    "early_stop_patience = config[\"Train\"][\"early_stop_patience\"]\n",
    "best_valid_loss = float('inf')\n",
    "early_stop_counter = 0\n",
    "\n",
    "for epoch in range(num_epochs):\n",
    "    model.train()\n",
    "    train_loss = 0.0\n",
    "    correct_train = 0\n",
    "    total_train = 0\n",
    "\n",
    "    train_loader_tqdm = tqdm(train_loader, desc=f\"Training Epoch {epoch + 1}/{num_epochs}\", leave=False)\n",
    "    for batch_X, batch_y in train_loader_tqdm:\n",
    "        batch_X, batch_y = batch_X.to(device), batch_y.to(device)\n",
    "        optimizer.zero_grad()\n",
    "        outputs = model(batch_X)\n",
    "        loss = criterion(outputs, batch_y)\n",
    "        loss.backward()\n",
    "        optimizer.step()\n",
    "\n",
    "        train_loss += loss.item()\n",
    "        predicted_train = (outputs > 0.5).float()\n",
    "        correct_train += (predicted_train == batch_y).sum().item()\n",
    "        total_train += batch_y.size(0)\n",
    "        train_loader_tqdm.set_postfix(loss=loss.item())  # 실시간 loss 출력\n",
    "\n",
    "    train_accuracy = correct_train / total_train\n",
    "\n",
    "    # 검증 루프\n",
    "    model.eval()\n",
    "    valid_loss = 0.0\n",
    "    correct_valid = 0\n",
    "    total_valid = 0\n",
    "\n",
    "    valid_loader_tqdm = tqdm(valid_loader, desc=f\"Validation Epoch {epoch + 1}/{num_epochs}\", leave=False)\n",
    "    with torch.no_grad():\n",
    "        for batch_X, batch_y in valid_loader_tqdm:\n",
    "            batch_X, batch_y = batch_X.to(device), batch_y.to(device)\n",
    "            outputs = model(batch_X)\n",
    "            loss = criterion(outputs, batch_y)\n",
    "            valid_loss += loss.item()\n",
    "            predicted_valid = (outputs > 0.5).float()\n",
    "            correct_valid += (predicted_valid == batch_y).sum().item()\n",
    "            total_valid += batch_y.size(0)\n",
    "            valid_loader_tqdm.set_postfix(loss=loss.item())  # 실시간 loss 출력\n",
    "\n",
    "    valid_accuracy = correct_valid / total_valid\n",
    "\n",
    "    # 학습 결과 출력\n",
    "    print(f\"Epoch [{epoch + 1}/{num_epochs}], \"\n",
    "          f\"Train Loss: {train_loss / len(train_loader):.4f}, \"\n",
    "          f\"Train Accuracy: {train_accuracy:.4f}, \"\n",
    "          f\"Valid Loss: {valid_loss / len(valid_loader):.4f}, \"\n",
    "          f\"Valid Accuracy: {valid_accuracy:.4f}\")\n",
    "\n",
    "    # Early Stopping 체크\n",
    "    if valid_loss < best_valid_loss:\n",
    "        best_valid_loss = valid_loss\n",
    "        early_stop_counter = 0\n",
    "        # 최적의 모델 저장\n",
    "        torch.save(model.state_dict(), config[\"Train\"][\"model_save_path\"])\n",
    "        print(f\"Validation loss improved, model saved to {config['Train']['model_save_path']}\")\n",
    "    else:\n",
    "        early_stop_counter += 1\n",
    "        print(f\"Validation loss did not improve for {early_stop_counter} epochs.\")\n",
    "\n",
    "    # Early Stopping 조건 만족 시 학습 종료\n",
    "    if early_stop_counter >= early_stop_patience:\n",
    "        print(\"Early stopping triggered.\")\n",
    "        break\n",
    "\n",
    "print(\"Training complete. Best model saved to:\", config[\"Train\"][\"model_save_path\"])\n"
   ]
  },
  {
   "cell_type": "code",
   "execution_count": null,
   "metadata": {},
   "outputs": [],
   "source": []
  }
 ],
 "metadata": {
  "kernelspec": {
   "display_name": "base",
   "language": "python",
   "name": "python3"
  },
  "language_info": {
   "codemirror_mode": {
    "name": "ipython",
    "version": 3
   },
   "file_extension": ".py",
   "mimetype": "text/x-python",
   "name": "python",
   "nbconvert_exporter": "python",
   "pygments_lexer": "ipython3",
   "version": "3.12.2"
  }
 },
 "nbformat": 4,
 "nbformat_minor": 2
}
