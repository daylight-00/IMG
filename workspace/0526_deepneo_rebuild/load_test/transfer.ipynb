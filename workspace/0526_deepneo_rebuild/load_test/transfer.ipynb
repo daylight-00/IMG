{
 "cells": [
  {
   "cell_type": "code",
   "execution_count": 1,
   "metadata": {},
   "outputs": [],
   "source": [
    "import pickle\n",
    "import gzip\n",
    "import numpy as np\n",
    "\n",
    "def load_params(file_path):\n",
    "    with gzip.open(file_path, 'rb') as f:\n",
    "        params = pickle.load(f, encoding='latin1')  # 'latin1' encoding for compatibility\n",
    "    return params\n",
    "\n",
    "params = load_params('params-mhc1-pan.pkl.gz')"
   ]
  },
  {
   "cell_type": "code",
   "execution_count": 8,
   "metadata": {},
   "outputs": [],
   "source": [
    "import torch\n",
    "import torch.nn as nn\n",
    "import torch.nn.functional as F\n",
    "\n",
    "class LeNetConvPoolLayer(nn.Module):\n",
    "    def __init__(self, filter_shape, poolsize):\n",
    "        super(LeNetConvPoolLayer, self).__init__()\n",
    "        self.conv = nn.Conv2d(\n",
    "            in_channels=filter_shape[1], \n",
    "            out_channels=filter_shape[0], \n",
    "            kernel_size=(filter_shape[2], filter_shape[3])\n",
    "        )\n",
    "        self.pool = nn.MaxPool2d(kernel_size=poolsize)\n",
    "    \n",
    "    def forward(self, x):\n",
    "        x = F.relu(self.conv(x))\n",
    "        x = self.pool(x)\n",
    "        return x\n",
    "\n",
    "class LogisticRegression(nn.Module):\n",
    "    def __init__(self, n_in, n_out):\n",
    "        super(LogisticRegression, self).__init__()\n",
    "        self.linear = nn.Linear(n_in, n_out)\n",
    "    \n",
    "    def forward(self, x):\n",
    "        x = torch.sigmoid(self.linear(x))\n",
    "        return x\n",
    "\n",
    "class CNN(nn.Module):\n",
    "    def __init__(self, nkerns, filtsize, poolsize, hidden):\n",
    "        super(CNN, self).__init__()\n",
    "        self.layer0 = LeNetConvPoolLayer(filter_shape=nkerns[0], poolsize=poolsize[0])\n",
    "        self.layer0_output_shape = ((filtsize[0][0] - 1) // poolsize[0][0] + 1, (filtsize[0][1] - 1) // poolsize[0][1] + 1)\n",
    "        \n",
    "        self.layer1 = LeNetConvPoolLayer(filter_shape=nkerns[1], poolsize=poolsize[1])\n",
    "        self.layer1_output_shape = ((self.layer0_output_shape[0] - filtsize[1][0] + 1) // poolsize[1][0], (self.layer0_output_shape[1] - filtsize[1][1] + 1) // poolsize[1][1])\n",
    "        \n",
    "        self.fc = LogisticRegression(n_in=nkerns[1][0] * self.layer1_output_shape[0] * self.layer1_output_shape[1], n_out=1)\n",
    "    \n",
    "    def forward(self, x):\n",
    "        x = self.layer0(x)\n",
    "        x = self.layer1(x)\n",
    "        x = x.view(x.size(0), -1)\n",
    "        x = self.fc(x)\n",
    "        return x"
   ]
  },
  {
   "cell_type": "code",
   "execution_count": 9,
   "metadata": {},
   "outputs": [
    {
     "ename": "NameError",
     "evalue": "name 'nkerns' is not defined",
     "output_type": "error",
     "traceback": [
      "\u001b[0;31m---------------------------------------------------------------------------\u001b[0m",
      "\u001b[0;31mNameError\u001b[0m                                 Traceback (most recent call last)",
      "Cell \u001b[0;32mIn[9], line 21\u001b[0m\n\u001b[1;32m     17\u001b[0m     model\u001b[38;5;241m.\u001b[39mfc\u001b[38;5;241m.\u001b[39mlinear\u001b[38;5;241m.\u001b[39mweight\u001b[38;5;241m.\u001b[39mdata \u001b[38;5;241m=\u001b[39m fc_w\n\u001b[1;32m     18\u001b[0m     model\u001b[38;5;241m.\u001b[39mfc\u001b[38;5;241m.\u001b[39mlinear\u001b[38;5;241m.\u001b[39mbias\u001b[38;5;241m.\u001b[39mdata \u001b[38;5;241m=\u001b[39m fc_b\n\u001b[1;32m     20\u001b[0m model \u001b[38;5;241m=\u001b[39m CNN(\n\u001b[0;32m---> 21\u001b[0m     nkerns\u001b[38;5;241m=\u001b[39m[(\u001b[43mnkerns\u001b[49m[\u001b[38;5;241m0\u001b[39m], \u001b[38;5;241m1\u001b[39m, filtsize[\u001b[38;5;241m0\u001b[39m][\u001b[38;5;241m0\u001b[39m], filtsize[\u001b[38;5;241m0\u001b[39m][\u001b[38;5;241m1\u001b[39m]), (nkerns[\u001b[38;5;241m1\u001b[39m], nkerns[\u001b[38;5;241m0\u001b[39m], filtsize[\u001b[38;5;241m1\u001b[39m][\u001b[38;5;241m0\u001b[39m], filtsize[\u001b[38;5;241m1\u001b[39m][\u001b[38;5;241m1\u001b[39m])],\n\u001b[1;32m     22\u001b[0m     poolsize\u001b[38;5;241m=\u001b[39mpoolsize,\n\u001b[1;32m     23\u001b[0m     hidden\u001b[38;5;241m=\u001b[39mhidden\n\u001b[1;32m     24\u001b[0m )\n\u001b[1;32m     25\u001b[0m set_params(params, model)\n",
      "\u001b[0;31mNameError\u001b[0m: name 'nkerns' is not defined"
     ]
    }
   ],
   "source": [
    "def set_params(params, model):\n",
    "    # Set parameters for layer 0\n",
    "    layer0_conv_w = torch.tensor(params[0], dtype=torch.float32)\n",
    "    layer0_conv_b = torch.tensor(params[1], dtype=torch.float32)\n",
    "    model.layer0.conv.weight.data = layer0_conv_w\n",
    "    model.layer0.conv.bias.data = layer0_conv_b\n",
    "    \n",
    "    # Set parameters for layer 1\n",
    "    layer1_conv_w = torch.tensor(params[2], dtype=torch.float32)\n",
    "    layer1_conv_b = torch.tensor(params[3], dtype=torch.float32)\n",
    "    model.layer1.conv.weight.data = layer1_conv_w\n",
    "    model.layer1.conv.bias.data = layer1_conv_b\n",
    "    \n",
    "    # Set parameters for fully connected layer\n",
    "    fc_w = torch.tensor(params[4], dtype=torch.float32)\n",
    "    fc_b = torch.tensor(params[5], dtype=torch.float32)\n",
    "    model.fc.linear.weight.data = fc_w\n",
    "    model.fc.linear.bias.data = fc_b\n",
    "\n",
    "model = CNN(\n",
    "    nkerns=[(nkerns[0], 1, filtsize[0][0], filtsize[0][1]), (nkerns[1], nkerns[0], filtsize[1][0], filtsize[1][1])],\n",
    "    poolsize=poolsize,\n",
    "    hidden=hidden\n",
    ")\n",
    "set_params(params, model)"
   ]
  }
 ],
 "metadata": {
  "kernelspec": {
   "display_name": "venv",
   "language": "python",
   "name": "python3"
  },
  "language_info": {
   "codemirror_mode": {
    "name": "ipython",
    "version": 3
   },
   "file_extension": ".py",
   "mimetype": "text/x-python",
   "name": "python",
   "nbconvert_exporter": "python",
   "pygments_lexer": "ipython3",
   "version": "3.11.8"
  }
 },
 "nbformat": 4,
 "nbformat_minor": 2
}
