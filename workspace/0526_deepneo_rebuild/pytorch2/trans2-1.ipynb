{
 "cells": [
  {
   "cell_type": "code",
   "execution_count": 1,
   "metadata": {},
   "outputs": [],
   "source": [
    "import numpy as np\n",
    "import torch\n",
    "import torch.nn as nn\n",
    "import torch.optim as optim\n",
    "\n",
    "def matchDat(afflst, hladic, aadic):\n",
    "    seqlst = []\n",
    "    tablst = []\n",
    "    header = []\n",
    "    for affin in afflst:\n",
    "        affstr = affin.strip().split('\\t')\n",
    "        if affstr[0] in hladic:\n",
    "            hlaseq = hladic[affstr[0]]\n",
    "            aaseq = affstr[1]\n",
    "            tmp = []\n",
    "            tmp0 = []\n",
    "            for hlain in hlaseq:\n",
    "                for aain in aaseq:\n",
    "                    if hlain == 'X' or aain == 'X':\n",
    "                        tmp0.append([0.0])\n",
    "                    elif hlain == '*' or hlain == '.':\n",
    "                        tmp0.append([0.0])\n",
    "                    elif aain == 'U':\n",
    "                        tmp0.append([aadic[hlain, 'C']])\n",
    "                    elif aain == 'J':\n",
    "                        aa1 = aadic[hlain, 'L']\n",
    "                        aa2 = aadic[hlain, 'I']\n",
    "                        aamax = max(aa1, aa2)\n",
    "                        tmp0.append([aamax])\n",
    "                    elif aain == 'Z':\n",
    "                        aa1 = aadic[hlain, 'Q']\n",
    "                        aa2 = aadic[hlain, 'E']\n",
    "                        aamax = max(aa1, aa2)\n",
    "                        tmp0.append([aamax])\n",
    "                    elif aain == 'B':\n",
    "                        aa1 = aadic[hlain, 'D']\n",
    "                        aa2 = aadic[hlain, 'N']\n",
    "                        aamax = max(aa1, aa2)\n",
    "                        tmp0.append([aamax])\n",
    "                    else:\n",
    "                        tmp0.append([aadic[hlain, aain]])\n",
    "                tmp.append(tmp0)\n",
    "                tmp0 = []\n",
    "            seqlst.append(np.array(tmp).T)\n",
    "            tablst.append(int(affstr[2]))\n",
    "            header.append((affstr[0], affstr[1]))\n",
    "    seqarray0 = np.array(seqlst, dtype=np.float32)\n",
    "    a_seq2 = seqarray0.reshape(seqarray0.shape[0], -1)\n",
    "    a_lab2 = np.array(tablst, dtype=np.float32)\n",
    "    return (a_seq2, a_lab2), header\n",
    "\n",
    "def load_data(affydatin_test, seqdatin):\n",
    "    hladicin = {x.strip().split('\\t')[0]: x.strip().split('\\t')[1] for x in open(seqdatin).readlines()}\n",
    "    aalst = open('data/Calpha.txt').readlines()\n",
    "    aadicin = {}\n",
    "    aaseq0 = aalst[0].strip().split('\\t')\n",
    "    for aain in aalst[1:]:\n",
    "        aastr = aain.strip().split('\\t')\n",
    "        for i in range(1, len(aastr)):\n",
    "            aadicin[aaseq0[i - 1], aastr[0]] = float(aastr[i])\n",
    "    afflst = open(affydatin_test).readlines()\n",
    "    (a_seq2, a_lab2), header = matchDat(afflst, hladicin, aadicin)\n",
    "    return a_seq2, a_lab2\n",
    "\n",
    "# 데이터 파일 경로\n",
    "Datname = 'data/class1_input.dat'\n",
    "Seqdatin = 'data/All_prot_alignseq_C_369.dat'\n",
    "\n",
    "# 전처리 수행\n",
    "sequences, labels = load_data(Datname, Seqdatin)"
   ]
  },
  {
   "cell_type": "code",
   "execution_count": 4,
   "metadata": {},
   "outputs": [
    {
     "ename": "NameError",
     "evalue": "name 'train_set' is not defined",
     "output_type": "error",
     "traceback": [
      "\u001b[1;31m---------------------------------------------------------------------------\u001b[0m",
      "\u001b[1;31mNameError\u001b[0m                                 Traceback (most recent call last)",
      "Cell \u001b[1;32mIn[4], line 1\u001b[0m\n\u001b[1;32m----> 1\u001b[0m \u001b[38;5;28mprint\u001b[39m(\u001b[38;5;124m\"\u001b[39m\u001b[38;5;124mTrain set X shape:\u001b[39m\u001b[38;5;124m\"\u001b[39m, \u001b[43mtrain_set\u001b[49m[\u001b[38;5;241m0\u001b[39m]\u001b[38;5;241m.\u001b[39mshape)  \u001b[38;5;66;03m# 예: (N, 15*2214)\u001b[39;00m\n\u001b[0;32m      2\u001b[0m \u001b[38;5;28mprint\u001b[39m(\u001b[38;5;124m\"\u001b[39m\u001b[38;5;124mValidation set X shape:\u001b[39m\u001b[38;5;124m\"\u001b[39m, valid_set[\u001b[38;5;241m0\u001b[39m]\u001b[38;5;241m.\u001b[39mshape)\n\u001b[0;32m      3\u001b[0m \u001b[38;5;28mprint\u001b[39m(\u001b[38;5;124m\"\u001b[39m\u001b[38;5;124mTest set X shape:\u001b[39m\u001b[38;5;124m\"\u001b[39m, test_set[\u001b[38;5;241m0\u001b[39m]\u001b[38;5;241m.\u001b[39mshape)\n",
      "\u001b[1;31mNameError\u001b[0m: name 'train_set' is not defined"
     ]
    }
   ],
   "source": [
    "print(\"Train set X shape:\", train_set[0].shape)  # 예: (N, 15*2214)\n",
    "print(\"Validation set X shape:\", valid_set[0].shape)\n",
    "print(\"Test set X shape:\", test_set[0].shape)"
   ]
  },
  {
   "cell_type": "code",
   "execution_count": 5,
   "metadata": {},
   "outputs": [
    {
     "data": {
      "text/plain": [
       "(202, 3321)"
      ]
     },
     "execution_count": 5,
     "metadata": {},
     "output_type": "execute_result"
    }
   ],
   "source": [
    "sequences.shape"
   ]
  },
  {
   "cell_type": "code",
   "execution_count": 2,
   "metadata": {},
   "outputs": [
    {
     "ename": "RuntimeError",
     "evalue": "shape '[-1, 1, 20, 20]' is invalid for input of size 670842",
     "output_type": "error",
     "traceback": [
      "\u001b[1;31m---------------------------------------------------------------------------\u001b[0m",
      "\u001b[1;31mRuntimeError\u001b[0m                              Traceback (most recent call last)",
      "Cell \u001b[1;32mIn[2], line 43\u001b[0m\n\u001b[0;32m     40\u001b[0m optimizer \u001b[38;5;241m=\u001b[39m optim\u001b[38;5;241m.\u001b[39mAdam(model\u001b[38;5;241m.\u001b[39mparameters(), lr\u001b[38;5;241m=\u001b[39m\u001b[38;5;241m0.001\u001b[39m)\n\u001b[0;32m     42\u001b[0m \u001b[38;5;66;03m# 데이터 텐서로 변환\u001b[39;00m\n\u001b[1;32m---> 43\u001b[0m sequences_tensor \u001b[38;5;241m=\u001b[39m \u001b[43mtorch\u001b[49m\u001b[38;5;241;43m.\u001b[39;49m\u001b[43mtensor\u001b[49m\u001b[43m(\u001b[49m\u001b[43msequences\u001b[49m\u001b[43m)\u001b[49m\u001b[38;5;241;43m.\u001b[39;49m\u001b[43mreshape\u001b[49m\u001b[43m(\u001b[49m\u001b[38;5;241;43m-\u001b[39;49m\u001b[38;5;241;43m1\u001b[39;49m\u001b[43m,\u001b[49m\u001b[43m \u001b[49m\u001b[38;5;241;43m1\u001b[39;49m\u001b[43m,\u001b[49m\u001b[43m \u001b[49m\u001b[43min_dim\u001b[49m\u001b[43m[\u001b[49m\u001b[38;5;241;43m0\u001b[39;49m\u001b[43m]\u001b[49m\u001b[43m,\u001b[49m\u001b[43m \u001b[49m\u001b[43min_dim\u001b[49m\u001b[43m[\u001b[49m\u001b[38;5;241;43m1\u001b[39;49m\u001b[43m]\u001b[49m\u001b[43m)\u001b[49m\n\u001b[0;32m     44\u001b[0m labels_tensor \u001b[38;5;241m=\u001b[39m torch\u001b[38;5;241m.\u001b[39mtensor(labels)\u001b[38;5;241m.\u001b[39mreshape(\u001b[38;5;241m-\u001b[39m\u001b[38;5;241m1\u001b[39m, \u001b[38;5;241m1\u001b[39m)\n\u001b[0;32m     46\u001b[0m \u001b[38;5;66;03m# 데이터셋 및 데이터로더 정의\u001b[39;00m\n",
      "\u001b[1;31mRuntimeError\u001b[0m: shape '[-1, 1, 20, 20]' is invalid for input of size 670842"
     ]
    }
   ],
   "source": [
    "class CNN(nn.Module):\n",
    "    def __init__(self, in_dim, nkerns, filtsize, poolsize, hidden):\n",
    "        super(CNN, self).__init__()\n",
    "        self.layer1 = nn.Sequential(\n",
    "            nn.Conv2d(1, nkerns[0], kernel_size=filtsize[0]),\n",
    "            nn.ReLU(),\n",
    "            nn.MaxPool2d(poolsize[0])\n",
    "        )\n",
    "        self.layer2 = nn.Sequential(\n",
    "            nn.Conv2d(nkerns[0], nkerns[1], kernel_size=filtsize[1]),\n",
    "            nn.ReLU(),\n",
    "            nn.MaxPool2d(poolsize[1])\n",
    "        )\n",
    "        self.fc1 = nn.Linear(nkerns[1] * (in_dim[0] - filtsize[0][0] + 1 - filtsize[1][0] + 1) // poolsize[0][0] // poolsize[1][0] *\n",
    "                             (in_dim[1] - filtsize[0][1] + 1 - filtsize[1][1] + 1) // poolsize[0][1] // poolsize[1][1], hidden)\n",
    "        self.fc2 = nn.Linear(hidden, 1)\n",
    "        self.sigmoid = nn.Sigmoid()\n",
    "\n",
    "    def forward(self, x):\n",
    "        out = self.layer1(x)\n",
    "        out = self.layer2(out)\n",
    "        out = out.view(out.size(0), -1)\n",
    "        out = self.fc1(out)\n",
    "        out = self.fc2(out)\n",
    "        out = self.sigmoid(out)\n",
    "        return out\n",
    "\n",
    "# 모델 하이퍼파라미터 설정\n",
    "in_dim = (20, 20)  # 입력 데이터의 차원 (예: 20x20)\n",
    "nkerns = [10, 20]  # 각 컨볼루션 레이어의 필터 수\n",
    "filtsize = [(5, 5), (5, 5)]  # 각 컨볼루션 레이어의 필터 크기\n",
    "poolsize = [(2, 2), (2, 2)]  # 각 풀링 레이어의 풀링 크기\n",
    "hidden = 100  # 완전 연결 레이어의 노드 수\n",
    "\n",
    "# 모델 초기화\n",
    "model = CNN(in_dim, nkerns, filtsize, poolsize, hidden)\n",
    "\n",
    "# 손실 함수 및 옵티마이저 정의\n",
    "criterion = nn.BCELoss()\n",
    "optimizer = optim.Adam(model.parameters(), lr=0.001)\n",
    "\n",
    "# 데이터 텐서로 변환\n",
    "sequences_tensor = torch.tensor(sequences).reshape(-1, 1, in_dim[0], in_dim[1])\n",
    "labels_tensor = torch.tensor(labels).reshape(-1, 1)\n",
    "\n",
    "# 데이터셋 및 데이터로더 정의\n",
    "from torch.utils.data import TensorDataset, DataLoader\n",
    "\n",
    "dataset = TensorDataset(sequences_tensor, labels_tensor)\n",
    "dataloader = DataLoader(dataset, batch_size=32, shuffle=True)\n",
    "\n",
    "# 모델 학습\n",
    "num_epochs = 10\n",
    "for epoch in range(num_epochs):\n",
    "    for i, (seqs, lbls) in enumerate(dataloader):\n",
    "        outputs = model(seqs)\n",
    "        loss = criterion(outputs, lbls)\n",
    "        optimizer.zero_grad()\n",
    "        loss.backward()\n",
    "        optimizer.step()\n",
    "    print(f'Epoch [{epoch+1}/{num_epochs}], Loss: {loss.item():.4f}')"
   ]
  }
 ],
 "metadata": {
  "kernelspec": {
   "display_name": "venv",
   "language": "python",
   "name": "python3"
  },
  "language_info": {
   "codemirror_mode": {
    "name": "ipython",
    "version": 3
   },
   "file_extension": ".py",
   "mimetype": "text/x-python",
   "name": "python",
   "nbconvert_exporter": "python",
   "pygments_lexer": "ipython3",
   "version": "3.11.9"
  }
 },
 "nbformat": 4,
 "nbformat_minor": 2
}
