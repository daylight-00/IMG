{
 "cells": [
  {
   "cell_type": "code",
   "execution_count": 1,
   "metadata": {},
   "outputs": [],
   "source": [
    "import gzip\n",
    "import pickle\n",
    "import numpy as np\n",
    "\n",
    "def matchDat(afflst, hladic, aadic):\n",
    "    seqlst = []\n",
    "    tablst = []\n",
    "    header = []\n",
    "    for affin in afflst:\n",
    "        affstr = affin.strip().split('\\t')\n",
    "        if affstr[0] in hladic:\n",
    "            hlaseq = hladic[affstr[0]]\n",
    "            aaseq = affstr[1]\n",
    "            tmp = []\n",
    "            tmp0 = []\n",
    "            for hlain in hlaseq:\n",
    "                for aain in aaseq:\n",
    "                    if hlain == 'X' or aain == 'X':\n",
    "                        tmp0.append([float(0)])\n",
    "                    elif hlain == '*':\n",
    "                        tmp0.append([float(0)])\n",
    "                    elif hlain == '.':\n",
    "                        tmp0.append([float(0)])\n",
    "                    elif aain == 'X':\n",
    "                        tmp0.append([float(0)])\n",
    "                    elif aain == 'U':\n",
    "                        tmp0.append([aadic[hlain, 'C']])\n",
    "                    elif aain == 'J':\n",
    "                        aa1 = aadic[hlain, 'L']\n",
    "                        aa2 = aadic[hlain, 'I']\n",
    "                        aamax = max(aa1, aa2)\n",
    "                        tmp0.append([float(aamax)])\n",
    "                    elif aain == 'Z':\n",
    "                        aa1 = aadic[hlain, 'Q']\n",
    "                        aa2 = aadic[hlain, 'E']\n",
    "                        aamax = max(aa1, aa2)\n",
    "                        tmp0.append([float(aamax)])\n",
    "                    elif aain == 'B':\n",
    "                        aa1 = aadic[hlain, 'D']\n",
    "                        aa2 = aadic[hlain, 'N']\n",
    "                        aamax = max(aa1, aa2)\n",
    "                        tmp0.append([float(aamax)])\n",
    "                    else:\n",
    "                        tmp0.append([aadic[hlain, aain]])\n",
    "                tmp.append(tmp0)\n",
    "                tmp0 = []\n",
    "            seqlst.append(list(zip(*tmp)))\n",
    "            tablst.append(int(affstr[2]))\n",
    "            header.append((affstr[0], affstr[1]))\n",
    "    seqarray0 = np.array(seqlst, dtype=np.float32)\n",
    "    a_seq2 = seqarray0.reshape(seqarray0.shape[0], seqarray0.shape[1] * seqarray0.shape[2])\n",
    "    a_lab2 = np.array(tablst, dtype=np.float32)\n",
    "    return (a_seq2, a_lab2), header\n",
    "\n",
    "def HeaderOutput(lstin, outname):\n",
    "    with open(outname, 'w') as outw:\n",
    "        for lin in lstin:\n",
    "            outw.write('\\t'.join(lin) + '\\n')\n",
    "\n",
    "def modifyMatrix(affydatin_test, seqdatin, outfile):\n",
    "    hladicin = {x.strip().split('\\t')[0]: x.strip().split('\\t')[1] for x in open(seqdatin).readlines()}\n",
    "    aalst = open('data/Calpha.txt').readlines()\n",
    "    aadicin = {}\n",
    "    aaseq0 = aalst[0].strip().split('\\t')\n",
    "    for aain in aalst[1:]:\n",
    "        aastr = aain.strip().split('\\t')\n",
    "        for i in range(1, len(aastr)):\n",
    "            aadicin[aaseq0[i - 1], aastr[0]] = float(aastr[i])\n",
    "    afflst = open(affydatin_test).readlines()\n",
    "    d, test_header = matchDat(afflst, hladicin, aadicin)\n",
    "    outname2 = affydatin_test + '.header'\n",
    "    with gzip.open(outfile, 'wb') as f:\n",
    "        pickle.dump(d, f, protocol=pickle.HIGHEST_PROTOCOL)\n",
    "    HeaderOutput(test_header, outname2)"
   ]
  },
  {
   "cell_type": "code",
   "execution_count": 2,
   "metadata": {},
   "outputs": [
    {
     "name": "stdout",
     "output_type": "stream",
     "text": [
      "Input file: data/class1_input.dat\n"
     ]
    }
   ],
   "source": [
    "Datname = 'data/class1_input.dat'\n",
    "mhcclass = 'class1'\n",
    "outputfile = 'temp/class1_input.dat.pkl.gz'\n",
    "\n",
    "print('Input file:', Datname)"
   ]
  },
  {
   "cell_type": "code",
   "execution_count": 3,
   "metadata": {},
   "outputs": [
    {
     "name": "stdout",
     "output_type": "stream",
     "text": [
      "The running is completed!\n"
     ]
    }
   ],
   "source": [
    "if mhcclass == 'class1':\n",
    "    modifyMatrix(Datname, 'data/All_prot_alignseq_C_369.dat', outputfile)\n",
    "    print('The running is completed!')\n",
    "\n",
    "if mhcclass == 'class2':\n",
    "    modifyMatrix(Datname, 'data/MHC2_prot_alignseq.dat', outputfile)\n",
    "    print('The running is completed!')"
   ]
  },
  {
   "cell_type": "code",
   "execution_count": 4,
   "metadata": {},
   "outputs": [],
   "source": [
    "import os\n",
    "\n",
    "def run_cnn(model_path, input_name, result_name, device='cuda'):\n",
    "    os.system(f'python cnn.py {model_path} {input_name} {result_name} --device {device}')"
   ]
  },
  {
   "cell_type": "code",
   "execution_count": 5,
   "metadata": {},
   "outputs": [],
   "source": [
    "mhc_class = 'class1'\n",
    "predtype = 'mhc'\n",
    "Inputname = 'temp/class1_input.dat.pkl.gz'\n",
    "Resultname = 'temp/class1_mhcbinding_result.txt'"
   ]
  },
  {
   "cell_type": "code",
   "execution_count": 7,
   "metadata": {},
   "outputs": [
    {
     "name": "stdout",
     "output_type": "stream",
     "text": [
      "\n",
      "The running is completed!\n",
      "\n"
     ]
    }
   ],
   "source": [
    "#!/usr/bin/python\n",
    "\n",
    "if mhc_class == \"class1\" and predtype == 'tcr':\n",
    "    run_cnn('data/tcr1-pan.pkl.gz', Inputname, Resultname, device='cuda:3')\n",
    "    print(\"\\nThe running is completed!\\n\")\n",
    "\n",
    "if mhc_class == \"class1\" and predtype == 'mhc':\n",
    "    run_cnn('data/mhc1-pan.pkl.gz', Inputname, Resultname, device='cuda:3')\n",
    "    print(\"\\nThe running is completed!\\n\")\n",
    "\n",
    "if mhc_class == \"class2\" and predtype == 'mhc':\n",
    "    run_cnn('data/mhc2-pan.pkl.gz', Inputname, Resultname, device='cuda:0')\n",
    "    print(\"\\nThe running is completed!\\n\")\n",
    "\n",
    "if mhc_class == \"class2\" and predtype == 'tcr':\n",
    "    run_cnn('data/tcr2-pan.pkl.gz', Inputname, Resultname, device='cuda:0')\n",
    "    print(\"\\nThe running is completed!\\n\")"
   ]
  }
 ],
 "metadata": {
  "kernelspec": {
   "display_name": "venv",
   "language": "python",
   "name": "python3"
  },
  "language_info": {
   "codemirror_mode": {
    "name": "ipython",
    "version": 3
   },
   "file_extension": ".py",
   "mimetype": "text/x-python",
   "name": "python",
   "nbconvert_exporter": "python",
   "pygments_lexer": "ipython3",
   "version": "3.11.9"
  }
 },
 "nbformat": 4,
 "nbformat_minor": 2
}
