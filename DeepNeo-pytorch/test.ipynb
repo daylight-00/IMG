{
 "cells": [
  {
   "cell_type": "code",
   "execution_count": 2,
   "metadata": {},
   "outputs": [
    {
     "name": "stdout",
     "output_type": "stream",
     "text": [
      "\n",
      "Input file:  data/class1_input.dat \n",
      "\n"
     ]
    },
    {
     "name": "stderr",
     "output_type": "stream",
     "text": [
      "Traceback (most recent call last):\n",
      "  File \"c:\\Users\\Daylight\\SynologyDrive\\Drive\\Research\\Immunogenicity\\1. 프로젝트\\IMG\\DeepNeo-pytorch\\make_dataset.py\", line 86, in <module>\n",
      "    modifyMatrix(Datname, 'data/All_prot_alignseq_C_369.dat', outputfile)\n",
      "  File \"c:\\Users\\Daylight\\SynologyDrive\\Drive\\Research\\Immunogenicity\\1. 프로젝트\\IMG\\DeepNeo-pytorch\\make_dataset.py\", line 75, in modifyMatrix\n",
      "    with gzip.open(outfile, 'wb') as f:\n",
      "         ^^^^^^^^^^^^^^^^^^^^^^^^\n",
      "  File \"C:\\Program Files\\WindowsApps\\PythonSoftwareFoundation.Python.3.11_3.11.2544.0_x64__qbz5n2kfra8p0\\Lib\\gzip.py\", line 58, in open\n",
      "    binary_file = GzipFile(filename, gz_mode, compresslevel)\n",
      "                  ^^^^^^^^^^^^^^^^^^^^^^^^^^^^^^^^^^^^^^^^^^\n",
      "  File \"C:\\Program Files\\WindowsApps\\PythonSoftwareFoundation.Python.3.11_3.11.2544.0_x64__qbz5n2kfra8p0\\Lib\\gzip.py\", line 174, in __init__\n",
      "    fileobj = self.myfileobj = builtins.open(filename, mode or 'rb')\n",
      "                               ^^^^^^^^^^^^^^^^^^^^^^^^^^^^^^^^^^^^^\n",
      "FileNotFoundError: [Errno 2] No such file or directory: '../results/class1_input.dat.pkl.gz'\n"
     ]
    }
   ],
   "source": [
    "! python make_dataset.py data/class1_input.dat class1 ../results/class1_input.dat.pkl.gz"
   ]
  },
  {
   "cell_type": "code",
   "execution_count": null,
   "metadata": {},
   "outputs": [],
   "source": [
    "! python run_deepneo.py class1 mhc ../results/class1_input.dat.pkl.gz ../results/class1_mhcbinding_result.txt"
   ]
  },
  {
   "cell_type": "code",
   "execution_count": null,
   "metadata": {},
   "outputs": [],
   "source": [
    "\n",
    "! python run_deepneo.py class1 tcr ../results/class1_input.dat.pkl.gz ../results/class1_immunogenicity_result.txt"
   ]
  }
 ],
 "metadata": {
  "kernelspec": {
   "display_name": "Python 3",
   "language": "python",
   "name": "python3"
  },
  "language_info": {
   "codemirror_mode": {
    "name": "ipython",
    "version": 3
   },
   "file_extension": ".py",
   "mimetype": "text/x-python",
   "name": "python",
   "nbconvert_exporter": "python",
   "pygments_lexer": "ipython3",
   "version": "3.11.9"
  }
 },
 "nbformat": 4,
 "nbformat_minor": 2
}
